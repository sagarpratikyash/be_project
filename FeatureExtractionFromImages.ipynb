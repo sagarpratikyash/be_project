{
 "cells": [
  {
   "cell_type": "code",
   "execution_count": 1,
   "metadata": {},
   "outputs": [
    {
     "data": {
      "text/html": [
       "<h1>Feature Extraction from Images</h1>"
      ],
      "text/plain": [
       "<IPython.core.display.HTML object>"
      ]
     },
     "metadata": {},
     "output_type": "display_data"
    }
   ],
   "source": [
    "from IPython.core.display import display, HTML\n",
    "display(HTML('<h1>Feature Extraction from Images</h1>'))"
   ]
  },
  {
   "cell_type": "code",
   "execution_count": 1,
   "metadata": {
    "collapsed": true
   },
   "outputs": [],
   "source": [
    "import glob\n",
    "import pandas as pd\n",
    "import numpy as np\n",
    "import cv2\n",
    "from skimage import feature\n",
    "import cv2\n",
    "import numpy as np\n",
    "\n"
   ]
  },
  {
   "cell_type": "code",
   "execution_count": 2,
   "metadata": {},
   "outputs": [
    {
     "data": {
      "text/html": [
       "<h2>Local Binary Patterns</h2>"
      ],
      "text/plain": [
       "<IPython.core.display.HTML object>"
      ]
     },
     "metadata": {},
     "output_type": "display_data"
    }
   ],
   "source": [
    "display(HTML('<h2>Local Binary Patterns</h2>'))"
   ]
  },
  {
   "cell_type": "code",
   "execution_count": 2,
   "metadata": {
    "collapsed": true
   },
   "outputs": [],
   "source": [
    "def LBP1(image):\n",
    "    lbp = feature.local_binary_pattern(image, 24,8,method=\"uniform\")\n",
    "    (hist, _) = np.histogram(lbp.ravel(),bins=np.arange(0, 24 + 3),range=(0, 24 + 2))\n",
    "    return hist"
   ]
  },
  {
   "cell_type": "code",
   "execution_count": 3,
   "metadata": {},
   "outputs": [
    {
     "data": {
      "text/html": [
       "<h2>Histogram of oriented gradients</h2>"
      ],
      "text/plain": [
       "<IPython.core.display.HTML object>"
      ]
     },
     "metadata": {},
     "output_type": "display_data"
    }
   ],
   "source": [
    "display(HTML('<h2>Histogram of oriented gradients</h2>'))"
   ]
  },
  {
   "cell_type": "code",
   "execution_count": 3,
   "metadata": {
    "collapsed": true
   },
   "outputs": [],
   "source": [
    "def HOG(image):\n",
    "    winSize = (64,64)\n",
    "    blockSize = (16,16)\n",
    "    blockStride = (8,8)\n",
    "    cellSize = (8,8)\n",
    "    nbins = 9\n",
    "    derivAperture = 1\n",
    "    winSigma = 4.\n",
    "    histogramNormType = 0\n",
    "    L2HysThreshold = 2.0000000000000001e-01\n",
    "    gammaCorrection = 0\n",
    "    nlevels = 64\n",
    "    hog = cv2.HOGDescriptor(winSize,blockSize,blockStride,cellSize,nbins,derivAperture,winSigma,\n",
    "                            histogramNormType,L2HysThreshold,gammaCorrection,nlevels)\n",
    "    winStride = (8,8)\n",
    "    padding = (8,8)\n",
    "    locations = ((10,20),)\n",
    "    hist = hog.compute(image,winStride,padding,locations)\n",
    "    \n",
    "    return hist"
   ]
  },
  {
   "cell_type": "code",
   "execution_count": 4,
   "metadata": {},
   "outputs": [
    {
     "data": {
      "text/html": [
       "<h2>Histogram</h2>"
      ],
      "text/plain": [
       "<IPython.core.display.HTML object>"
      ]
     },
     "metadata": {},
     "output_type": "display_data"
    }
   ],
   "source": [
    "display(HTML('<h2>Histogram</h2>'))"
   ]
  },
  {
   "cell_type": "code",
   "execution_count": 4,
   "metadata": {
    "collapsed": true
   },
   "outputs": [],
   "source": [
    "def histogram(gray_img):\n",
    "    x=np.histogram(gray_img, bins = 10)[0]\n",
    "    x2=(np.histogram(gray_img, bins = 10)[1])\n",
    "    \n",
    "    return np.concatenate([x,x2])\n"
   ]
  },
  {
   "cell_type": "code",
   "execution_count": 5,
   "metadata": {
    "collapsed": true
   },
   "outputs": [],
   "source": [
    "def make_data(raw_pixels_df):\n",
    "    new_pixels = pd.DataFrame()\n",
    "    new_pixels['ALL'] = raw_pixels_df['raw_pixels'].apply(lambda x : np.concatenate([LBP1(x).reshape(1,26),HOG(x).reshape(1,1764),histogram(x).reshape(1,21)], axis = 1))\n",
    "    new_pixels['name'] = raw_pixels_df['name']\n",
    "    return new_pixels"
   ]
  },
  {
   "cell_type": "code",
   "execution_count": 6,
   "metadata": {
    "collapsed": true
   },
   "outputs": [],
   "source": [
    "\n",
    "    \n",
    "def csv_maker(raw_pixels_df):\n",
    "    final = pd.DataFrame()\n",
    "    raw_pixels_df = make_data(raw_pixels_df)\n",
    "    final['value'] = raw_pixels_df['ALL']\n",
    "    final['name'] = raw_pixels_df[['name']]\n",
    "    final['value'] = final['value'].apply(lambda x : x[0])\n",
    "    csv_format = pd.DataFrame()\n",
    "    csv_format[[\"x\"+str(i) for i in range(1811)]] = pd.DataFrame(final.value.values.tolist(), index = final.index)\n",
    "    csv_format['name'] = final['name']\n",
    "    return csv_format\n",
    "   "
   ]
  },
  {
   "cell_type": "code",
   "execution_count": 7,
   "metadata": {},
   "outputs": [
    {
     "data": {
      "text/html": [
       "<h2>Feature Extraction in batches of 100 images</h2>"
      ],
      "text/plain": [
       "<IPython.core.display.HTML object>"
      ]
     },
     "metadata": {},
     "output_type": "display_data"
    }
   ],
   "source": [
    "display(HTML('<h2>Feature Extraction in batches of 100 images</h2>'))"
   ]
  },
  {
   "cell_type": "code",
   "execution_count": 7,
   "metadata": {},
   "outputs": [
    {
     "name": "stdout",
     "output_type": "stream",
     "text": [
      "100\n",
      "2.0%...\n",
      "100\n",
      "4.0%...\n",
      "100\n",
      "6.0%...\n",
      "100\n",
      "8.0%...\n",
      "100\n",
      "10.0%...\n",
      "100\n",
      "12.0%...\n",
      "100\n",
      "14.000000000000002%...\n",
      "100\n",
      "16.0%...\n",
      "100\n",
      "18.0%...\n",
      "100\n",
      "20.0%...\n",
      "100\n",
      "22.0%...\n",
      "100\n",
      "24.0%...\n",
      "100\n",
      "26.0%...\n",
      "100\n",
      "28.000000000000004%...\n",
      "100\n",
      "30.0%...\n",
      "100\n",
      "32.0%...\n",
      "100\n",
      "34.0%...\n",
      "100\n",
      "36.0%...\n",
      "100\n",
      "38.0%...\n",
      "100\n",
      "40.0%...\n",
      "100\n",
      "42.0%...\n",
      "100\n",
      "44.0%...\n",
      "100\n",
      "46.0%...\n",
      "100\n",
      "48.0%...\n",
      "100\n",
      "50.0%...\n",
      "100\n",
      "52.0%...\n",
      "100\n",
      "54.0%...\n",
      "100\n",
      "56.00000000000001%...\n",
      "100\n",
      "57.99999999999999%...\n",
      "100\n",
      "60.0%...\n",
      "100\n",
      "62.0%...\n",
      "100\n",
      "64.0%...\n",
      "100\n",
      "66.0%...\n",
      "100\n",
      "68.0%...\n",
      "100\n",
      "70.0%...\n",
      "100\n",
      "72.0%...\n",
      "100\n",
      "74.0%...\n",
      "100\n",
      "76.0%...\n",
      "100\n",
      "78.0%...\n",
      "100\n",
      "80.0%...\n",
      "100\n",
      "82.0%...\n",
      "100\n",
      "84.0%...\n",
      "100\n",
      "86.0%...\n",
      "100\n",
      "88.0%...\n",
      "100\n",
      "90.0%...\n",
      "100\n",
      "92.0%...\n",
      "100\n",
      "94.0%...\n",
      "100\n",
      "96.0%...\n",
      "100\n",
      "98.0%...\n",
      "100\n",
      "100.0%...\n"
     ]
    }
   ],
   "source": [
    "filenames = glob.glob('/home/sagar/Desktop/BE/BE Project/images1/*.jpg')\n",
    "x_test_type =np.array([1,2])\n",
    "counter = 0\n",
    "for i in range(50):\n",
    "    raw_pixels = []\n",
    "    names = []\n",
    "    for j in range(100):\n",
    "        image  = cv2.imread(filenames[counter],cv2.IMREAD_GRAYSCALE)\n",
    "        if(type(image)!= type(x_test_type)):\n",
    "            counter = counter +1\n",
    "            continue\n",
    "            \n",
    "        raw_pixels.append(image)\n",
    "        \n",
    "        names.append(filenames[counter].split(\"/\")[-1])\n",
    "        counter = counter + 1\n",
    "    print(len(raw_pixels))\n",
    "    raw_pixels_df = pd.DataFrame()\n",
    "    raw_pixels_df['raw_pixels'] = raw_pixels\n",
    "    raw_pixels_df['name']= names\n",
    "    print((str((counter/5000)*100))+\"%...\")\n",
    "    #print(len(raw_pixels_df))\n",
    "    x=(csv_maker(raw_pixels_df))\n",
    "    if counter == 100:\n",
    "        x.to_csv(\"my_csv_images1.csv\")\n",
    "    else:\n",
    "        x.to_csv('my_csv_images1.csv', mode='a', header=False)\n",
    "\n",
    "    \n",
    "\n",
    "\n"
   ]
  }
 ],
 "metadata": {
  "kernelspec": {
   "display_name": "Python 3",
   "language": "python",
   "name": "python3"
  },
  "language_info": {
   "codemirror_mode": {
    "name": "ipython",
    "version": 3
   },
   "file_extension": ".py",
   "mimetype": "text/x-python",
   "name": "python",
   "nbconvert_exporter": "python",
   "pygments_lexer": "ipython3",
   "version": "3.6.3"
  }
 },
 "nbformat": 4,
 "nbformat_minor": 2
}
