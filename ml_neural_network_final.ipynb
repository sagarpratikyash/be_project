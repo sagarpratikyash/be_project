{
 "cells": [
  {
   "cell_type": "code",
   "execution_count": 1,
   "metadata": {},
   "outputs": [
    {
     "data": {
      "text/html": [
       "<h1>Neural Network</h1>"
      ],
      "text/plain": [
       "<IPython.core.display.HTML object>"
      ]
     },
     "metadata": {},
     "output_type": "display_data"
    }
   ],
   "source": [
    "from IPython.core.display import display, HTML\n",
    "display(HTML('<h1>Neural Network</h1>'))\n"
   ]
  },
  {
   "cell_type": "code",
   "execution_count": 2,
   "metadata": {},
   "outputs": [
    {
     "data": {
      "text/html": [
       "<h2>Imports</h2>"
      ],
      "text/plain": [
       "<IPython.core.display.HTML object>"
      ]
     },
     "metadata": {},
     "output_type": "display_data"
    }
   ],
   "source": [
    "display(HTML('<h2>Imports</h2>'))"
   ]
  },
  {
   "cell_type": "code",
   "execution_count": 8,
   "metadata": {
    "collapsed": true
   },
   "outputs": [],
   "source": [
    "import pandas as pd\n",
    "import numpy as np\n",
    "import random as rnd\n",
    "\n"
   ]
  },
  {
   "cell_type": "code",
   "execution_count": 26,
   "metadata": {},
   "outputs": [
    {
     "data": {
      "text/html": [
       "<h2>Load Training Data</h2>"
      ],
      "text/plain": [
       "<IPython.core.display.HTML object>"
      ]
     },
     "metadata": {},
     "output_type": "display_data"
    }
   ],
   "source": [
    "display(HTML('<h2>Load Training Data</h2>'))"
   ]
  },
  {
   "cell_type": "code",
   "execution_count": 14,
   "metadata": {
    "collapsed": true
   },
   "outputs": [],
   "source": [
    "train = pd.read_csv(\"clean_meta.csv\")\n"
   ]
  },
  {
   "cell_type": "code",
   "execution_count": 27,
   "metadata": {},
   "outputs": [
    {
     "data": {
      "text/html": [
       "<h2> Split Into Train And Test Set</h2>"
      ],
      "text/plain": [
       "<IPython.core.display.HTML object>"
      ]
     },
     "metadata": {},
     "output_type": "display_data"
    }
   ],
   "source": [
    "display(HTML('<h2> Split Into Train And Test Set</h2>'))"
   ]
  },
  {
   "cell_type": "code",
   "execution_count": 16,
   "metadata": {
    "collapsed": true
   },
   "outputs": [],
   "source": [
    "from sklearn.model_selection import train_test_split\n",
    "train = train.dropna()\n",
    "train, test = train_test_split(train, test_size = 0.25)\n"
   ]
  },
  {
   "cell_type": "code",
   "execution_count": 18,
   "metadata": {
    "collapsed": true
   },
   "outputs": [],
   "source": [
    "X=train[['age','sex','s0','s1','s2','s3','s4','s5','s6']]\n",
    "y=train['diagnosis']"
   ]
  },
  {
   "cell_type": "code",
   "execution_count": 28,
   "metadata": {},
   "outputs": [
    {
     "data": {
      "text/html": [
       "<h2>Reshape Output</h2>"
      ],
      "text/plain": [
       "<IPython.core.display.HTML object>"
      ]
     },
     "metadata": {},
     "output_type": "display_data"
    }
   ],
   "source": [
    "display(HTML('<h2>Reshape Output</h2>'))"
   ]
  },
  {
   "cell_type": "code",
   "execution_count": 19,
   "metadata": {},
   "outputs": [
    {
     "name": "stderr",
     "output_type": "stream",
     "text": [
      "/root/anaconda3/lib/python3.6/site-packages/ipykernel_launcher.py:1: FutureWarning: reshape is deprecated and will raise in a subsequent release. Please use .values.reshape(...) instead\n",
      "  \"\"\"Entry point for launching an IPython kernel.\n"
     ]
    }
   ],
   "source": [
    "y = y.reshape(len(X), 1)"
   ]
  },
  {
   "cell_type": "code",
   "execution_count": 29,
   "metadata": {},
   "outputs": [
    {
     "data": {
      "text/html": [
       "<h2>Layers</h2>"
      ],
      "text/plain": [
       "<IPython.core.display.HTML object>"
      ]
     },
     "metadata": {},
     "output_type": "display_data"
    }
   ],
   "source": [
    "display(HTML('<h2>Layers</h2>'))"
   ]
  },
  {
   "cell_type": "code",
   "execution_count": 30,
   "metadata": {
    "collapsed": true
   },
   "outputs": [],
   "source": [
    "input_layer_size=X.shape[1]\n",
    "hidden_layer_size=6\n",
    "num_labels=7\n",
    "counter=0\n"
   ]
  },
  {
   "cell_type": "code",
   "execution_count": 31,
   "metadata": {},
   "outputs": [
    {
     "data": {
      "text/html": [
       "<h2>Sigmoid</h2>"
      ],
      "text/plain": [
       "<IPython.core.display.HTML object>"
      ]
     },
     "metadata": {},
     "output_type": "display_data"
    }
   ],
   "source": [
    "display(HTML('<h2>Sigmoid</h2>'))"
   ]
  },
  {
   "cell_type": "code",
   "execution_count": null,
   "metadata": {
    "collapsed": true
   },
   "outputs": [],
   "source": [
    "def sigmoid(z):  \n",
    "    return 1 / (1 + np.exp(-z))\n"
   ]
  },
  {
   "cell_type": "code",
   "execution_count": 32,
   "metadata": {},
   "outputs": [
    {
     "data": {
      "text/html": [
       "<h2>Sigmoid Gradient</h2>"
      ],
      "text/plain": [
       "<IPython.core.display.HTML object>"
      ]
     },
     "metadata": {},
     "output_type": "display_data"
    }
   ],
   "source": [
    "display(HTML('<h2>Sigmoid Gradient</h2>'))"
   ]
  },
  {
   "cell_type": "code",
   "execution_count": null,
   "metadata": {
    "collapsed": true
   },
   "outputs": [],
   "source": [
    "def sigmoidGradient(z):\n",
    "    g=np.matrix(np.zeros(z.shape))\n",
    "    g=np.multiply(sigmoid(z),(1-sigmoid(z)))\n",
    "    return g\n",
    "        "
   ]
  },
  {
   "cell_type": "code",
   "execution_count": 33,
   "metadata": {},
   "outputs": [
    {
     "data": {
      "text/html": [
       "<h2>Forward Propogation</h2>"
      ],
      "text/plain": [
       "<IPython.core.display.HTML object>"
      ]
     },
     "metadata": {},
     "output_type": "display_data"
    }
   ],
   "source": [
    "display(HTML('<h2>Forward Propogation</h2>'))"
   ]
  },
  {
   "cell_type": "code",
   "execution_count": null,
   "metadata": {
    "collapsed": true
   },
   "outputs": [],
   "source": [
    "def forwardpropagate(X,theta1,theta2):\n",
    "\n",
    "   # theta1 = np.matrix(np.reshape(params[:hidden_layer_size * (input_layer_size + 1)], (hidden_layer_size, (input_layer_size + 1))))  \n",
    "    #theta2 = np.matrix(np.reshape(params[hidden_layer_size * (input_layer_size + 1):], (num_labels, (hidden_layer_size + 1))))\n",
    "    a1=np.matrix(np.insert(X,0,1,axis=1))\n",
    "    #print(\"a1:\\t\"+str(a1.shape))\n",
    "    z2=np.matmul(a1,theta1.T)\n",
    "    a2=sigmoid(z2)\n",
    "    a2=np.insert(a2,0,1,axis=1)\n",
    "    #print(\"a2:\\t\"+str(a2.shape))\n",
    "    z3=np.matmul(a2,theta2.T)\n",
    "    a3=sigmoid(z3)\n",
    "    return a3"
   ]
  },
  {
   "cell_type": "code",
   "execution_count": 34,
   "metadata": {},
   "outputs": [
    {
     "data": {
      "text/html": [
       "<h2>Forward Propogation + Backward Propogation Model</h2>"
      ],
      "text/plain": [
       "<IPython.core.display.HTML object>"
      ]
     },
     "metadata": {},
     "output_type": "display_data"
    }
   ],
   "source": [
    "display(HTML('<h2>Forward Propogation + Backward Propogation Model</h2>'))"
   ]
  },
  {
   "cell_type": "code",
   "execution_count": 21,
   "metadata": {
    "collapsed": true
   },
   "outputs": [],
   "source": [
    "def nnCostRegGrad(params,input_layer_size,hidden_layer_size,num_labels,X,y,lam):\n",
    "    theta1 = np.matrix(np.reshape(params[:hidden_layer_size * (input_layer_size + 1)], (hidden_layer_size, (input_layer_size + 1))))  \n",
    "    theta2 = np.matrix(np.reshape(params[hidden_layer_size * (input_layer_size + 1):], (num_labels, (hidden_layer_size + 1))))\n",
    "    global counter\n",
    "    #print(theta1.shape)\n",
    "    #print(theta2.shape)\n",
    "    m=X.shape[0]\n",
    "    X=np.matrix(X)\n",
    "    a1=np.matrix(np.insert(X,0,1,axis=1))\n",
    "    #print(\"a1:\\t\"+str(a1.shape))\n",
    "    z2=np.matmul(a1,theta1.T)\n",
    "    a2=sigmoid(z2)\n",
    "    a2=np.insert(a2,0,1,axis=1)\n",
    "    #print(\"a2:\\t\"+str(a2.shape))\n",
    "    z3=np.matmul(a2,theta2.T)\n",
    "    a3=sigmoid(z3)\n",
    "  \n",
    "                       \n",
    "    y2=np.copy(y)        \n",
    "    \n",
    "    #print(\"y2:\\t\"+str(y2.shape))\n",
    "    y2=np.matrix(y2)  \n",
    "    a3=np.matrix(a3)\n",
    "    a2=np.matrix(a2)\n",
    "    a1=np.matrix(a1)\n",
    "    theta1=np.matrix(theta1)\n",
    "    theta2=np.matrix(theta2)\n",
    "    #print(y2)\n",
    "    M=np.multiply(-y2.T,np.log(a3))-np.multiply((1-y2.T),np.log(1-a3))\n",
    "    l=np.sum(np.sum(M))\n",
    "    J=l/m\n",
    "    \n",
    "    t1=np.power(theta1,2)\n",
    "    t2=np.power(theta2,2)\n",
    "    reg1=np.sum(np.sum(t1[:,2:theta1.shape[1]]))\n",
    "    reg2=np.sum(np.sum(t2[:,2:theta1.shape[1]]))\n",
    "    \n",
    "    reg=reg1+reg2\n",
    "    \n",
    "    finreg=(lam*reg)/(2*m)\n",
    "    J+=finreg\n",
    "    \n",
    "    \n",
    "    \n",
    "    #print(J)\n",
    "    yy=np.matrix(y2.T)\n",
    "    b=np.matrix(np.insert(X,0,1,axis=1))\n",
    "    findel1=np.matrix(np.zeros(theta1.shape))\n",
    "    findel2=np.matrix(np.zeros(theta2.shape))\n",
    "    #print(findel1.shape)\n",
    "    #print(findel2.shape)\n",
    "    percentage=100*(counter/250)\n",
    "    print(percentage)\n",
    "    counter=counter+1\n",
    "    for t in range(X.shape[0]):\n",
    "        aa1=np.matrix(b[t])\n",
    "        \n",
    "        zz2=np.matmul(aa1,theta1.T)\n",
    "        aa2=sigmoid(zz2)\n",
    "        aa2=np.insert(aa2,0,1,axis=1)\n",
    "        \n",
    "        #print(\"aa2:\\t\"+str(aa2.shape))\n",
    "        zz3=np.matmul(aa2,theta2.T)\n",
    "        aa3=sigmoid(zz3)\n",
    "        #print(aa3)\n",
    "        #print(yy[t].shape)\n",
    "        d3=aa3-yy[t]\n",
    "        #print(\"d3:\\t\"+str(d3.shape))\n",
    "        d2=np.multiply(np.matmul(d3,theta2),sigmoidGradient(np.insert(zz2,0,1)))\n",
    "        #print(\"d2:\\t\"+str(d2.shape))\n",
    "        #print(findel1.shape)\n",
    "        #print(\"d2 before:\\t\"+str(d2.shape))\n",
    "        d2=d2[:,1:]\n",
    "     #   print(\"d2:\\t\"+str(d2.shape))\n",
    "        findel1=findel1+np.matmul(d2.T,aa1)\n",
    "        #print(findel1)\n",
    "        findel2=findel2+np.matmul(d3.T,aa2)\n",
    "        #print(findel2)\n",
    "    Theta1_grad=np.matrix(np.zeros(theta1.shape))\n",
    "    Theta2_grad=np.matrix(np.zeros(theta2.shape))\n",
    "    Theta1_grad=findel1/m\n",
    "    Theta2_grad=findel2/m\n",
    "    \n",
    "    #print(Theta1_grad.shape,Theta2_grad.shape)\n",
    "    \n",
    "    Theta1_grad[:,1:Theta1_grad.shape[1]]=Theta1_grad[:,1:]+((lam*theta1[:,1:]))/m\n",
    "    Theta2_grad[:,1:Theta2_grad.shape[1]]=Theta2_grad[:,1:]+((lam*theta2[:,1:]))/m\n",
    "    \n",
    "    grad = np.concatenate((np.ravel(Theta1_grad), np.ravel(Theta2_grad)))\n",
    "    \n",
    "    return J,grad\n",
    "\n",
    "\n"
   ]
  },
  {
   "cell_type": "code",
   "execution_count": 35,
   "metadata": {},
   "outputs": [
    {
     "data": {
      "text/html": [
       "<h2>Convert Y to one-hot representation</h2>"
      ],
      "text/plain": [
       "<IPython.core.display.HTML object>"
      ]
     },
     "metadata": {},
     "output_type": "display_data"
    }
   ],
   "source": [
    "display(HTML('<h2>Convert Y to one-hot representation</h2>'))"
   ]
  },
  {
   "cell_type": "code",
   "execution_count": 22,
   "metadata": {},
   "outputs": [
    {
     "name": "stdout",
     "output_type": "stream",
     "text": [
      "0.0\n"
     ]
    },
    {
     "data": {
      "text/plain": [
       "array([[0],\n",
       "       [0],\n",
       "       [0],\n",
       "       ...,\n",
       "       [0],\n",
       "       [0],\n",
       "       [0]])"
      ]
     },
     "execution_count": 22,
     "metadata": {},
     "output_type": "execute_result"
    }
   ],
   "source": [
    "y2=np.zeros((num_labels,X.shape[0]))\n",
    "   \n",
    "for i in range(0,X.shape[0]):\n",
    "    for j in range(0,num_labels):\n",
    "        if(y[i]==j):\n",
    "            y2[j][i]=1\n",
    "\n",
    "params = (np.random.random(size=hidden_layer_size * (input_layer_size + 1) + num_labels * (hidden_layer_size + 1)) - 0.5) * 0.25\n",
    "\n",
    "# unravel the parameter array into parameter matrices for each layer\n",
    "J,grad=nnCostRegGrad(params,input_layer_size,hidden_layer_size,num_labels,X,y2,lam=1)\n",
    "y\n",
    "\n",
    "\n",
    "\n"
   ]
  },
  {
   "cell_type": "code",
   "execution_count": 36,
   "metadata": {},
   "outputs": [
    {
     "data": {
      "text/html": [
       "<h2>Run Gradient Descent</h2>"
      ],
      "text/plain": [
       "<IPython.core.display.HTML object>"
      ]
     },
     "metadata": {},
     "output_type": "display_data"
    }
   ],
   "source": [
    "display(HTML('<h2>Run Gradient Descent</h2>'))"
   ]
  },
  {
   "cell_type": "code",
   "execution_count": 23,
   "metadata": {},
   "outputs": [
    {
     "name": "stdout",
     "output_type": "stream",
     "text": [
      "0.4\n",
      "0.8\n",
      "1.2\n",
      "1.6\n",
      "2.0\n",
      "2.4\n",
      "2.8000000000000003\n",
      "3.2\n",
      "3.5999999999999996\n",
      "4.0\n",
      "4.3999999999999995\n",
      "4.8\n",
      "5.2\n",
      "5.6000000000000005\n",
      "6.0\n",
      "6.4\n",
      "6.800000000000001\n",
      "7.199999999999999\n",
      "7.6\n",
      "8.0\n",
      "8.4\n",
      "8.799999999999999\n",
      "9.2\n",
      "9.6\n",
      "10.0\n",
      "10.4\n",
      "10.8\n",
      "11.200000000000001\n",
      "11.600000000000001\n",
      "12.0\n",
      "12.4\n",
      "12.8\n",
      "13.200000000000001\n",
      "13.600000000000001\n",
      "14.000000000000002\n",
      "14.399999999999999\n",
      "14.799999999999999\n",
      "15.2\n",
      "15.6\n",
      "16.0\n",
      "16.400000000000002\n",
      "16.8\n",
      "17.2\n",
      "17.599999999999998\n",
      "18.0\n",
      "18.4\n",
      "18.8\n",
      "19.2\n",
      "19.6\n",
      "20.0\n",
      "20.4\n",
      "20.8\n",
      "21.2\n",
      "21.6\n",
      "22.0\n",
      "22.400000000000002\n",
      "22.8\n",
      "23.200000000000003\n",
      "23.599999999999998\n",
      "24.0\n",
      "24.4\n",
      "24.8\n",
      "25.2\n",
      "25.6\n",
      "26.0\n",
      "26.400000000000002\n",
      "26.8\n",
      "27.200000000000003\n",
      "27.6\n",
      "28.000000000000004\n",
      "28.4\n",
      "28.799999999999997\n",
      "29.2\n",
      "29.599999999999998\n",
      "30.0\n",
      "30.4\n",
      "30.8\n",
      "31.2\n",
      "31.6\n",
      "32.0\n",
      "32.4\n",
      "32.800000000000004\n",
      "33.2\n",
      "33.6\n",
      "34.0\n",
      "34.4\n",
      "34.8\n",
      "35.199999999999996\n",
      "35.6\n",
      "36.0\n",
      "36.4\n",
      "36.8\n",
      "37.2\n",
      "37.6\n",
      "38.0\n",
      "38.4\n",
      "38.800000000000004\n",
      "39.2\n",
      "39.6\n",
      "40.0\n",
      "40.400000000000006\n",
      "40.8\n",
      "41.199999999999996\n",
      "41.6\n",
      "42.0\n",
      "42.4\n",
      "42.8\n",
      "43.2\n",
      "43.6\n",
      "44.0\n",
      "44.4\n",
      "44.800000000000004\n",
      "45.2\n",
      "45.6\n",
      "46.0\n",
      "46.400000000000006\n",
      "46.800000000000004\n",
      "47.199999999999996\n",
      "47.599999999999994\n",
      "48.0\n",
      "48.4\n",
      "48.8\n",
      "49.2\n",
      "49.6\n",
      "50.0\n",
      "50.4\n",
      "50.8\n",
      "51.2\n",
      "51.6\n",
      "52.0\n",
      "52.400000000000006\n",
      "52.800000000000004\n",
      "53.2\n",
      "53.6\n",
      "54.0\n",
      "54.400000000000006\n",
      "54.800000000000004\n",
      "55.2\n",
      "55.60000000000001\n",
      "56.00000000000001\n",
      "56.39999999999999\n",
      "56.8\n",
      "57.199999999999996\n",
      "57.599999999999994\n",
      "57.99999999999999\n",
      "58.4\n",
      "58.8\n",
      "59.199999999999996\n",
      "59.599999999999994\n",
      "60.0\n",
      "60.4\n",
      "60.8\n",
      "61.199999999999996\n",
      "61.6\n",
      "62.0\n",
      "62.4\n",
      "62.8\n",
      "63.2\n",
      "63.6\n",
      "64.0\n",
      "64.4\n",
      "64.8\n",
      "65.2\n",
      "65.60000000000001\n",
      "66.0\n",
      "66.4\n",
      "66.8\n",
      "67.2\n",
      "67.60000000000001\n",
      "68.0\n",
      "68.4\n",
      "68.8\n",
      "69.19999999999999\n",
      "69.6\n",
      "70.0\n",
      "70.39999999999999\n",
      "70.8\n",
      "71.2\n",
      "71.6\n",
      "72.0\n",
      "72.39999999999999\n",
      "72.8\n",
      "73.2\n",
      "73.6\n",
      "74.0\n",
      "74.4\n",
      "74.8\n",
      "75.2\n",
      "75.6\n",
      "76.0\n",
      "76.4\n",
      "76.8\n",
      "77.2\n",
      "77.60000000000001\n",
      "78.0\n",
      "78.4\n",
      "78.8\n",
      "79.2\n",
      "79.60000000000001\n",
      "80.0\n",
      "80.4\n",
      "80.80000000000001\n",
      "81.2\n",
      "81.6\n",
      "82.0\n",
      "82.39999999999999\n",
      "82.8\n",
      "83.2\n",
      "83.6\n",
      "84.0\n",
      "84.39999999999999\n",
      "84.8\n",
      "85.2\n",
      "85.6\n",
      "86.0\n",
      "86.4\n",
      "86.8\n",
      "87.2\n",
      "87.6\n",
      "88.0\n",
      "88.4\n",
      "88.8\n",
      "89.2\n",
      "89.60000000000001\n",
      "90.0\n",
      "90.4\n",
      "90.8\n",
      "91.2\n",
      "91.60000000000001\n",
      "92.0\n",
      "92.4\n",
      "92.80000000000001\n",
      "93.2\n",
      "93.60000000000001\n",
      "94.0\n",
      "94.39999999999999\n",
      "94.8\n",
      "95.19999999999999\n",
      "95.6\n",
      "96.0\n",
      "96.39999999999999\n",
      "96.8\n",
      "97.2\n",
      "97.6\n",
      "98.0\n",
      "98.4\n",
      "98.8\n",
      "99.2\n",
      "99.6\n",
      "100.0\n",
      "100.4\n",
      "accuracy = 97.99964595503629%\n"
     ]
    }
   ],
   "source": [
    "from scipy.optimize import minimize\n",
    "lam=1\n",
    "# minimize the objective function\n",
    "fmin = minimize(fun=nnCostRegGrad, x0=params, args=(input_layer_size, hidden_layer_size, num_labels, X, y2,lam),  \n",
    "                method='TNC', jac=True, options={'maxiter': 250})\n",
    "fmin\n",
    "\n",
    "\n",
    "# In[50]:\n",
    "\n",
    "X = np.matrix(X)  \n",
    "theta1 = np.matrix(np.reshape(fmin.x[:hidden_layer_size * (input_layer_size + 1)], (hidden_layer_size, (input_layer_size + 1))))  \n",
    "theta2 = np.matrix(np.reshape(fmin.x[hidden_layer_size * (input_layer_size + 1):], (num_labels, (hidden_layer_size + 1))))\n",
    "\n",
    "h = forwardpropagate(X,theta1,theta2)  \n",
    "y_pred = np.array(np.argmax(h, axis=1))  \n",
    "y,y_pred\n",
    "\n",
    "\n",
    "# In[51]:\n",
    "\n",
    "correct = [1 if a == b else 0 for (a, b) in zip(y_pred, y)]  \n",
    "accuracy = (sum(map(int, correct)) / float(len(correct)))  \n",
    "print ('accuracy = {0}%'.format(accuracy * 100))"
   ]
  },
  {
   "cell_type": "code",
   "execution_count": 41,
   "metadata": {},
   "outputs": [
    {
     "data": {
      "text/html": [
       "<h2>Testing</h2>"
      ],
      "text/plain": [
       "<IPython.core.display.HTML object>"
      ]
     },
     "metadata": {},
     "output_type": "display_data"
    }
   ],
   "source": [
    "display(HTML('<h2>Testing</h2>'))"
   ]
  },
  {
   "cell_type": "code",
   "execution_count": 38,
   "metadata": {
    "collapsed": true
   },
   "outputs": [],
   "source": [
    "test=test.dropna()\n",
    "fnx2=np.array(test[['age','sex','s0','s1','s2','s3','s4','s5','s6']])\n",
    "testy=test['diagnosis']\n"
   ]
  },
  {
   "cell_type": "code",
   "execution_count": 27,
   "metadata": {
    "collapsed": true
   },
   "outputs": [],
   "source": [
    "h2 = forwardpropagate(fnx2,theta1,theta2)  \n",
    "y_pred2 = np.array(np.argmax(h2, axis=1))  \n"
   ]
  },
  {
   "cell_type": "code",
   "execution_count": 39,
   "metadata": {},
   "outputs": [
    {
     "data": {
      "text/html": [
       "<h2>F-SCORE</h2>"
      ],
      "text/plain": [
       "<IPython.core.display.HTML object>"
      ]
     },
     "metadata": {},
     "output_type": "display_data"
    }
   ],
   "source": [
    "display(HTML('<h2>F-SCORE</h2>'))"
   ]
  },
  {
   "cell_type": "code",
   "execution_count": 33,
   "metadata": {},
   "outputs": [
    {
     "name": "stderr",
     "output_type": "stream",
     "text": [
      "/root/anaconda3/lib/python3.6/site-packages/sklearn/metrics/classification.py:1137: UndefinedMetricWarning: Recall and F-score are ill-defined and being set to 0.0 in labels with no true samples.\n",
      "  'recall', 'true', average, warn_for)\n"
     ]
    },
    {
     "data": {
      "text/plain": [
       "(0.9575229281989843, 0.9201060204468005, 0.9313156293336067, None)"
      ]
     },
     "execution_count": 33,
     "metadata": {},
     "output_type": "execute_result"
    }
   ],
   "source": [
    "from sklearn.metrics import precision_recall_fscore_support\n",
    "precision_recall_fscore_support(y_pred2,testy,average='weighted')"
   ]
  },
  {
   "cell_type": "code",
   "execution_count": null,
   "metadata": {
    "collapsed": true
   },
   "outputs": [],
   "source": []
  },
  {
   "cell_type": "code",
   "execution_count": null,
   "metadata": {
    "collapsed": true
   },
   "outputs": [],
   "source": []
  },
  {
   "cell_type": "code",
   "execution_count": null,
   "metadata": {
    "collapsed": true
   },
   "outputs": [],
   "source": []
  },
  {
   "cell_type": "code",
   "execution_count": null,
   "metadata": {
    "collapsed": true
   },
   "outputs": [],
   "source": []
  },
  {
   "cell_type": "code",
   "execution_count": null,
   "metadata": {
    "collapsed": true
   },
   "outputs": [],
   "source": []
  },
  {
   "cell_type": "code",
   "execution_count": null,
   "metadata": {
    "collapsed": true
   },
   "outputs": [],
   "source": []
  },
  {
   "cell_type": "code",
   "execution_count": null,
   "metadata": {
    "collapsed": true
   },
   "outputs": [],
   "source": []
  },
  {
   "cell_type": "code",
   "execution_count": null,
   "metadata": {
    "collapsed": true
   },
   "outputs": [],
   "source": []
  },
  {
   "cell_type": "code",
   "execution_count": null,
   "metadata": {
    "collapsed": true
   },
   "outputs": [],
   "source": []
  },
  {
   "cell_type": "code",
   "execution_count": null,
   "metadata": {
    "collapsed": true
   },
   "outputs": [],
   "source": []
  },
  {
   "cell_type": "code",
   "execution_count": null,
   "metadata": {
    "collapsed": true
   },
   "outputs": [],
   "source": []
  },
  {
   "cell_type": "code",
   "execution_count": null,
   "metadata": {
    "collapsed": true
   },
   "outputs": [],
   "source": []
  },
  {
   "cell_type": "code",
   "execution_count": null,
   "metadata": {
    "collapsed": true
   },
   "outputs": [],
   "source": []
  },
  {
   "cell_type": "code",
   "execution_count": null,
   "metadata": {
    "collapsed": true
   },
   "outputs": [],
   "source": []
  },
  {
   "cell_type": "code",
   "execution_count": null,
   "metadata": {
    "collapsed": true
   },
   "outputs": [],
   "source": []
  },
  {
   "cell_type": "code",
   "execution_count": null,
   "metadata": {
    "collapsed": true
   },
   "outputs": [],
   "source": []
  },
  {
   "cell_type": "code",
   "execution_count": null,
   "metadata": {
    "collapsed": true
   },
   "outputs": [],
   "source": []
  },
  {
   "cell_type": "code",
   "execution_count": null,
   "metadata": {
    "collapsed": true
   },
   "outputs": [],
   "source": []
  },
  {
   "cell_type": "code",
   "execution_count": null,
   "metadata": {
    "collapsed": true
   },
   "outputs": [],
   "source": []
  },
  {
   "cell_type": "code",
   "execution_count": null,
   "metadata": {
    "collapsed": true
   },
   "outputs": [],
   "source": []
  },
  {
   "cell_type": "code",
   "execution_count": null,
   "metadata": {
    "collapsed": true
   },
   "outputs": [],
   "source": []
  },
  {
   "cell_type": "code",
   "execution_count": null,
   "metadata": {
    "collapsed": true
   },
   "outputs": [],
   "source": []
  },
  {
   "cell_type": "code",
   "execution_count": null,
   "metadata": {
    "collapsed": true,
    "scrolled": true
   },
   "outputs": [],
   "source": []
  },
  {
   "cell_type": "code",
   "execution_count": null,
   "metadata": {
    "collapsed": true
   },
   "outputs": [],
   "source": []
  },
  {
   "cell_type": "code",
   "execution_count": null,
   "metadata": {
    "collapsed": true
   },
   "outputs": [],
   "source": []
  },
  {
   "cell_type": "code",
   "execution_count": null,
   "metadata": {
    "collapsed": true
   },
   "outputs": [],
   "source": []
  },
  {
   "cell_type": "code",
   "execution_count": null,
   "metadata": {
    "collapsed": true
   },
   "outputs": [],
   "source": []
  },
  {
   "cell_type": "code",
   "execution_count": null,
   "metadata": {
    "collapsed": true
   },
   "outputs": [],
   "source": []
  },
  {
   "cell_type": "code",
   "execution_count": null,
   "metadata": {
    "collapsed": true
   },
   "outputs": [],
   "source": []
  },
  {
   "cell_type": "code",
   "execution_count": null,
   "metadata": {
    "collapsed": true
   },
   "outputs": [],
   "source": []
  },
  {
   "cell_type": "code",
   "execution_count": null,
   "metadata": {
    "collapsed": true
   },
   "outputs": [],
   "source": []
  },
  {
   "cell_type": "code",
   "execution_count": null,
   "metadata": {
    "collapsed": true
   },
   "outputs": [],
   "source": []
  },
  {
   "cell_type": "code",
   "execution_count": null,
   "metadata": {
    "collapsed": true
   },
   "outputs": [],
   "source": []
  },
  {
   "cell_type": "code",
   "execution_count": null,
   "metadata": {
    "collapsed": true
   },
   "outputs": [],
   "source": []
  },
  {
   "cell_type": "code",
   "execution_count": null,
   "metadata": {
    "collapsed": true
   },
   "outputs": [],
   "source": []
  },
  {
   "cell_type": "code",
   "execution_count": null,
   "metadata": {
    "collapsed": true
   },
   "outputs": [],
   "source": []
  },
  {
   "cell_type": "code",
   "execution_count": null,
   "metadata": {
    "collapsed": true
   },
   "outputs": [],
   "source": []
  },
  {
   "cell_type": "code",
   "execution_count": null,
   "metadata": {
    "collapsed": true
   },
   "outputs": [],
   "source": []
  },
  {
   "cell_type": "code",
   "execution_count": null,
   "metadata": {
    "collapsed": true
   },
   "outputs": [],
   "source": []
  },
  {
   "cell_type": "code",
   "execution_count": null,
   "metadata": {
    "collapsed": true
   },
   "outputs": [],
   "source": []
  },
  {
   "cell_type": "code",
   "execution_count": null,
   "metadata": {
    "collapsed": true
   },
   "outputs": [],
   "source": []
  }
 ],
 "metadata": {
  "kernelspec": {
   "display_name": "Python 3",
   "language": "python",
   "name": "python3"
  },
  "language_info": {
   "codemirror_mode": {
    "name": "ipython",
    "version": 3
   },
   "file_extension": ".py",
   "mimetype": "text/x-python",
   "name": "python",
   "nbconvert_exporter": "python",
   "pygments_lexer": "ipython3",
   "version": "3.6.3"
  }
 },
 "nbformat": 4,
 "nbformat_minor": 2
}
