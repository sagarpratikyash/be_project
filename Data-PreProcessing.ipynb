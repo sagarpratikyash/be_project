{
 "cells": [
  {
   "cell_type": "code",
   "execution_count": 1,
   "metadata": {},
   "outputs": [
    {
     "data": {
      "text/html": [
       "<h1>Data Pre-Processing And Analysis</h1>"
      ],
      "text/plain": [
       "<IPython.core.display.HTML object>"
      ]
     },
     "metadata": {},
     "output_type": "display_data"
    }
   ],
   "source": [
    "from IPython.core.display import display, HTML\n",
    "display(HTML('<h1>Data Pre-Processing And Analysis</h1>'))\n"
   ]
  },
  {
   "cell_type": "code",
   "execution_count": 2,
   "metadata": {},
   "outputs": [
    {
     "data": {
      "text/html": [
       "<h2>Imports</h2>"
      ],
      "text/plain": [
       "<IPython.core.display.HTML object>"
      ]
     },
     "metadata": {},
     "output_type": "display_data"
    }
   ],
   "source": [
    "display(HTML('<h2>Imports</h2>'))"
   ]
  },
  {
   "cell_type": "code",
   "execution_count": 3,
   "metadata": {
    "collapsed": true
   },
   "outputs": [],
   "source": [
    "import pandas as pd\n",
    "import numpy as np\n",
    "import random as rnd\n",
    "\n",
    "# visualization\n",
    "import seaborn as sns\n",
    "import matplotlib.pyplot as plt\n",
    "%matplotlib inline\n",
    "\n",
    "from collections import Counter\n",
    "from sklearn.feature_selection import mutual_info_classif\n",
    "\n",
    "\n",
    "\n",
    "# machine learning\n",
    "from sklearn.linear_model import LogisticRegression\n",
    "from sklearn.svm import SVC, LinearSVC\n",
    "from sklearn.ensemble import RandomForestClassifier\n",
    "from sklearn.neighbors import KNeighborsClassifier\n",
    "from sklearn.naive_bayes import GaussianNB\n",
    "from sklearn.linear_model import Perceptron\n",
    "from sklearn.linear_model import SGDClassifier\n",
    "from sklearn.tree import DecisionTreeClassifier"
   ]
  },
  {
   "cell_type": "code",
   "execution_count": 4,
   "metadata": {},
   "outputs": [
    {
     "data": {
      "text/html": [
       "<script>requirejs.config({paths: { 'plotly': ['https://cdn.plot.ly/plotly-latest.min']},});if(!window.Plotly) {{require(['plotly'],function(plotly) {window.Plotly=plotly;});}}</script>"
      ],
      "text/vnd.plotly.v1+html": [
       "<script>requirejs.config({paths: { 'plotly': ['https://cdn.plot.ly/plotly-latest.min']},});if(!window.Plotly) {{require(['plotly'],function(plotly) {window.Plotly=plotly;});}}</script>"
      ]
     },
     "metadata": {},
     "output_type": "display_data"
    }
   ],
   "source": [
    "import seaborn as sns\n",
    "import matplotlib.pyplot as plt\n",
    "%matplotlib inline\n",
    "import plotly.offline as py\n",
    "py.init_notebook_mode(connected=True)\n",
    "import plotly.graph_objs as go\n",
    "import plotly.tools as tls\n",
    "import warnings\n",
    "from collections import Counter\n",
    "from sklearn.feature_selection import mutual_info_classif\n",
    "warnings.filterwarnings('ignore')"
   ]
  },
  {
   "cell_type": "code",
   "execution_count": 5,
   "metadata": {},
   "outputs": [
    {
     "data": {
      "text/html": [
       "<h2>Load Raw Data</h2>"
      ],
      "text/plain": [
       "<IPython.core.display.HTML object>"
      ]
     },
     "metadata": {},
     "output_type": "display_data"
    }
   ],
   "source": [
    "display(HTML('<h2>Load Raw Data</h2>'))"
   ]
  },
  {
   "cell_type": "code",
   "execution_count": 6,
   "metadata": {},
   "outputs": [],
   "source": [
    "data = pd.read_csv(\"raw_meta.csv\")"
   ]
  },
  {
   "cell_type": "code",
   "execution_count": 7,
   "metadata": {},
   "outputs": [
    {
     "data": {
      "text/html": [
       "<div>\n",
       "<style>\n",
       "    .dataframe thead tr:only-child th {\n",
       "        text-align: right;\n",
       "    }\n",
       "\n",
       "    .dataframe thead th {\n",
       "        text-align: left;\n",
       "    }\n",
       "\n",
       "    .dataframe tbody tr th {\n",
       "        vertical-align: top;\n",
       "    }\n",
       "</style>\n",
       "<table border=\"1\" class=\"dataframe\">\n",
       "  <thead>\n",
       "    <tr style=\"text-align: right;\">\n",
       "      <th></th>\n",
       "      <th>Unnamed: 0</th>\n",
       "      <th>value</th>\n",
       "      <th>name</th>\n",
       "      <th>age</th>\n",
       "      <th>benignmalignant</th>\n",
       "      <th>diagnosis</th>\n",
       "      <th>sex</th>\n",
       "      <th>s0</th>\n",
       "      <th>s1</th>\n",
       "      <th>s2</th>\n",
       "      <th>s3</th>\n",
       "      <th>s4</th>\n",
       "      <th>s5</th>\n",
       "      <th>s6</th>\n",
       "    </tr>\n",
       "  </thead>\n",
       "  <tbody>\n",
       "    <tr>\n",
       "      <th>0</th>\n",
       "      <td>342</td>\n",
       "      <td>{'_id': '5436e3abbae478396759f0cf', 'meta': {'...</td>\n",
       "      <td>ISIC_0000000</td>\n",
       "      <td>55.0</td>\n",
       "      <td>benign</td>\n",
       "      <td>0</td>\n",
       "      <td>female</td>\n",
       "      <td>0</td>\n",
       "      <td>0</td>\n",
       "      <td>0</td>\n",
       "      <td>0</td>\n",
       "      <td>0</td>\n",
       "      <td>0</td>\n",
       "      <td>0</td>\n",
       "    </tr>\n",
       "    <tr>\n",
       "      <th>1</th>\n",
       "      <td>293</td>\n",
       "      <td>{'_id': '5436e3acbae478396759f0d1', 'meta': {'...</td>\n",
       "      <td>ISIC_0000001</td>\n",
       "      <td>30.0</td>\n",
       "      <td>benign</td>\n",
       "      <td>0</td>\n",
       "      <td>female</td>\n",
       "      <td>0</td>\n",
       "      <td>0</td>\n",
       "      <td>0</td>\n",
       "      <td>0</td>\n",
       "      <td>0</td>\n",
       "      <td>0</td>\n",
       "      <td>0</td>\n",
       "    </tr>\n",
       "    <tr>\n",
       "      <th>2</th>\n",
       "      <td>345</td>\n",
       "      <td>{'_id': '5436e3acbae478396759f0d3', 'meta': {'...</td>\n",
       "      <td>ISIC_0000002</td>\n",
       "      <td>60.0</td>\n",
       "      <td>malignant</td>\n",
       "      <td>1</td>\n",
       "      <td>female</td>\n",
       "      <td>1</td>\n",
       "      <td>0</td>\n",
       "      <td>1</td>\n",
       "      <td>1</td>\n",
       "      <td>0</td>\n",
       "      <td>1</td>\n",
       "      <td>1</td>\n",
       "    </tr>\n",
       "    <tr>\n",
       "      <th>3</th>\n",
       "      <td>215</td>\n",
       "      <td>{'_id': '5436e3acbae478396759f0d5', 'meta': {'...</td>\n",
       "      <td>ISIC_0000003</td>\n",
       "      <td>30.0</td>\n",
       "      <td>benign</td>\n",
       "      <td>0</td>\n",
       "      <td>male</td>\n",
       "      <td>0</td>\n",
       "      <td>0</td>\n",
       "      <td>0</td>\n",
       "      <td>0</td>\n",
       "      <td>0</td>\n",
       "      <td>0</td>\n",
       "      <td>0</td>\n",
       "    </tr>\n",
       "    <tr>\n",
       "      <th>4</th>\n",
       "      <td>537</td>\n",
       "      <td>{'_id': '5436e3acbae478396759f0d7', 'meta': {'...</td>\n",
       "      <td>ISIC_0000004</td>\n",
       "      <td>80.0</td>\n",
       "      <td>malignant</td>\n",
       "      <td>1</td>\n",
       "      <td>male</td>\n",
       "      <td>1</td>\n",
       "      <td>0</td>\n",
       "      <td>1</td>\n",
       "      <td>1</td>\n",
       "      <td>0</td>\n",
       "      <td>1</td>\n",
       "      <td>1</td>\n",
       "    </tr>\n",
       "    <tr>\n",
       "      <th>5</th>\n",
       "      <td>283</td>\n",
       "      <td>{'_id': '5436e3acbae478396759f0d9', 'meta': {'...</td>\n",
       "      <td>ISIC_0000005</td>\n",
       "      <td>40.0</td>\n",
       "      <td>benign</td>\n",
       "      <td>0</td>\n",
       "      <td>female</td>\n",
       "      <td>0</td>\n",
       "      <td>0</td>\n",
       "      <td>0</td>\n",
       "      <td>0</td>\n",
       "      <td>0</td>\n",
       "      <td>0</td>\n",
       "      <td>0</td>\n",
       "    </tr>\n",
       "    <tr>\n",
       "      <th>6</th>\n",
       "      <td>152</td>\n",
       "      <td>{'_id': '5436e3acbae478396759f0db', 'meta': {'...</td>\n",
       "      <td>ISIC_0000006</td>\n",
       "      <td>25.0</td>\n",
       "      <td>benign</td>\n",
       "      <td>0</td>\n",
       "      <td>female</td>\n",
       "      <td>0</td>\n",
       "      <td>0</td>\n",
       "      <td>0</td>\n",
       "      <td>0</td>\n",
       "      <td>0</td>\n",
       "      <td>0</td>\n",
       "      <td>0</td>\n",
       "    </tr>\n",
       "    <tr>\n",
       "      <th>7</th>\n",
       "      <td>288</td>\n",
       "      <td>{'_id': '5436e3acbae478396759f0dd', 'meta': {'...</td>\n",
       "      <td>ISIC_0000007</td>\n",
       "      <td>25.0</td>\n",
       "      <td>benign</td>\n",
       "      <td>0</td>\n",
       "      <td>female</td>\n",
       "      <td>0</td>\n",
       "      <td>0</td>\n",
       "      <td>0</td>\n",
       "      <td>0</td>\n",
       "      <td>0</td>\n",
       "      <td>0</td>\n",
       "      <td>0</td>\n",
       "    </tr>\n",
       "    <tr>\n",
       "      <th>8</th>\n",
       "      <td>498</td>\n",
       "      <td>{'_id': '5436e3acbae478396759f0df', 'meta': {'...</td>\n",
       "      <td>ISIC_0000008</td>\n",
       "      <td>30.0</td>\n",
       "      <td>benign</td>\n",
       "      <td>0</td>\n",
       "      <td>female</td>\n",
       "      <td>0</td>\n",
       "      <td>0</td>\n",
       "      <td>0</td>\n",
       "      <td>0</td>\n",
       "      <td>0</td>\n",
       "      <td>0</td>\n",
       "      <td>0</td>\n",
       "    </tr>\n",
       "    <tr>\n",
       "      <th>9</th>\n",
       "      <td>7</td>\n",
       "      <td>{'_id': '5436e3acbae478396759f0e1', 'meta': {'...</td>\n",
       "      <td>ISIC_0000009</td>\n",
       "      <td>30.0</td>\n",
       "      <td>benign</td>\n",
       "      <td>0</td>\n",
       "      <td>female</td>\n",
       "      <td>0</td>\n",
       "      <td>0</td>\n",
       "      <td>0</td>\n",
       "      <td>0</td>\n",
       "      <td>0</td>\n",
       "      <td>0</td>\n",
       "      <td>0</td>\n",
       "    </tr>\n",
       "    <tr>\n",
       "      <th>10</th>\n",
       "      <td>521</td>\n",
       "      <td>{'_id': '5436e3acbae478396759f0e3', 'meta': {'...</td>\n",
       "      <td>ISIC_0000010</td>\n",
       "      <td>35.0</td>\n",
       "      <td>benign</td>\n",
       "      <td>0</td>\n",
       "      <td>female</td>\n",
       "      <td>0</td>\n",
       "      <td>0</td>\n",
       "      <td>0</td>\n",
       "      <td>0</td>\n",
       "      <td>0</td>\n",
       "      <td>0</td>\n",
       "      <td>0</td>\n",
       "    </tr>\n",
       "    <tr>\n",
       "      <th>11</th>\n",
       "      <td>138</td>\n",
       "      <td>{'_id': '5436e3acbae478396759f0e5', 'meta': {'...</td>\n",
       "      <td>ISIC_0000011</td>\n",
       "      <td>35.0</td>\n",
       "      <td>benign</td>\n",
       "      <td>0</td>\n",
       "      <td>female</td>\n",
       "      <td>0</td>\n",
       "      <td>0</td>\n",
       "      <td>0</td>\n",
       "      <td>0</td>\n",
       "      <td>0</td>\n",
       "      <td>0</td>\n",
       "      <td>0</td>\n",
       "    </tr>\n",
       "    <tr>\n",
       "      <th>12</th>\n",
       "      <td>395</td>\n",
       "      <td>{'_id': '5436e3acbae478396759f0e7', 'meta': {'...</td>\n",
       "      <td>ISIC_0000012</td>\n",
       "      <td>30.0</td>\n",
       "      <td>benign</td>\n",
       "      <td>0</td>\n",
       "      <td>male</td>\n",
       "      <td>0</td>\n",
       "      <td>0</td>\n",
       "      <td>0</td>\n",
       "      <td>0</td>\n",
       "      <td>0</td>\n",
       "      <td>0</td>\n",
       "      <td>0</td>\n",
       "    </tr>\n",
       "    <tr>\n",
       "      <th>13</th>\n",
       "      <td>65</td>\n",
       "      <td>{'_id': '5436e3adbae478396759f0e9', 'meta': {'...</td>\n",
       "      <td>ISIC_0000013</td>\n",
       "      <td>30.0</td>\n",
       "      <td>malignant</td>\n",
       "      <td>1</td>\n",
       "      <td>female</td>\n",
       "      <td>1</td>\n",
       "      <td>0</td>\n",
       "      <td>1</td>\n",
       "      <td>1</td>\n",
       "      <td>0</td>\n",
       "      <td>1</td>\n",
       "      <td>1</td>\n",
       "    </tr>\n",
       "    <tr>\n",
       "      <th>14</th>\n",
       "      <td>510</td>\n",
       "      <td>{'_id': '5436e3adbae478396759f0eb', 'meta': {'...</td>\n",
       "      <td>ISIC_0000014</td>\n",
       "      <td>35.0</td>\n",
       "      <td>benign</td>\n",
       "      <td>0</td>\n",
       "      <td>male</td>\n",
       "      <td>0</td>\n",
       "      <td>0</td>\n",
       "      <td>0</td>\n",
       "      <td>0</td>\n",
       "      <td>0</td>\n",
       "      <td>0</td>\n",
       "      <td>0</td>\n",
       "    </tr>\n",
       "    <tr>\n",
       "      <th>15</th>\n",
       "      <td>220</td>\n",
       "      <td>{'_id': '5436e3adbae478396759f0ed', 'meta': {'...</td>\n",
       "      <td>ISIC_0000015</td>\n",
       "      <td>35.0</td>\n",
       "      <td>benign</td>\n",
       "      <td>0</td>\n",
       "      <td>male</td>\n",
       "      <td>0</td>\n",
       "      <td>0</td>\n",
       "      <td>0</td>\n",
       "      <td>0</td>\n",
       "      <td>0</td>\n",
       "      <td>0</td>\n",
       "      <td>0</td>\n",
       "    </tr>\n",
       "    <tr>\n",
       "      <th>16</th>\n",
       "      <td>290</td>\n",
       "      <td>{'_id': '5436e3adbae478396759f0ef', 'meta': {'...</td>\n",
       "      <td>ISIC_0000016</td>\n",
       "      <td>55.0</td>\n",
       "      <td>benign</td>\n",
       "      <td>0</td>\n",
       "      <td>female</td>\n",
       "      <td>0</td>\n",
       "      <td>0</td>\n",
       "      <td>0</td>\n",
       "      <td>0</td>\n",
       "      <td>0</td>\n",
       "      <td>0</td>\n",
       "      <td>0</td>\n",
       "    </tr>\n",
       "    <tr>\n",
       "      <th>17</th>\n",
       "      <td>467</td>\n",
       "      <td>{'_id': '5436e3adbae478396759f0f1', 'meta': {'...</td>\n",
       "      <td>ISIC_0000017</td>\n",
       "      <td>50.0</td>\n",
       "      <td>benign</td>\n",
       "      <td>0</td>\n",
       "      <td>female</td>\n",
       "      <td>0</td>\n",
       "      <td>0</td>\n",
       "      <td>0</td>\n",
       "      <td>0</td>\n",
       "      <td>0</td>\n",
       "      <td>0</td>\n",
       "      <td>0</td>\n",
       "    </tr>\n",
       "    <tr>\n",
       "      <th>18</th>\n",
       "      <td>330</td>\n",
       "      <td>{'_id': '5436e3adbae478396759f0f3', 'meta': {'...</td>\n",
       "      <td>ISIC_0000018</td>\n",
       "      <td>30.0</td>\n",
       "      <td>benign</td>\n",
       "      <td>0</td>\n",
       "      <td>male</td>\n",
       "      <td>0</td>\n",
       "      <td>0</td>\n",
       "      <td>0</td>\n",
       "      <td>0</td>\n",
       "      <td>0</td>\n",
       "      <td>0</td>\n",
       "      <td>0</td>\n",
       "    </tr>\n",
       "    <tr>\n",
       "      <th>19</th>\n",
       "      <td>165</td>\n",
       "      <td>{'_id': '5436e3adbae478396759f0f5', 'meta': {'...</td>\n",
       "      <td>ISIC_0000019</td>\n",
       "      <td>30.0</td>\n",
       "      <td>benign</td>\n",
       "      <td>0</td>\n",
       "      <td>female</td>\n",
       "      <td>0</td>\n",
       "      <td>0</td>\n",
       "      <td>0</td>\n",
       "      <td>0</td>\n",
       "      <td>0</td>\n",
       "      <td>0</td>\n",
       "      <td>0</td>\n",
       "    </tr>\n",
       "    <tr>\n",
       "      <th>20</th>\n",
       "      <td>69</td>\n",
       "      <td>{'_id': '5436e3adbae478396759f0f7', 'meta': {'...</td>\n",
       "      <td>ISIC_0000020</td>\n",
       "      <td>25.0</td>\n",
       "      <td>benign</td>\n",
       "      <td>0</td>\n",
       "      <td>female</td>\n",
       "      <td>0</td>\n",
       "      <td>0</td>\n",
       "      <td>0</td>\n",
       "      <td>0</td>\n",
       "      <td>0</td>\n",
       "      <td>0</td>\n",
       "      <td>0</td>\n",
       "    </tr>\n",
       "    <tr>\n",
       "      <th>21</th>\n",
       "      <td>556</td>\n",
       "      <td>{'_id': '5436e3adbae478396759f0f9', 'meta': {'...</td>\n",
       "      <td>ISIC_0000021</td>\n",
       "      <td>55.0</td>\n",
       "      <td>benign</td>\n",
       "      <td>0</td>\n",
       "      <td>female</td>\n",
       "      <td>0</td>\n",
       "      <td>0</td>\n",
       "      <td>0</td>\n",
       "      <td>0</td>\n",
       "      <td>0</td>\n",
       "      <td>0</td>\n",
       "      <td>0</td>\n",
       "    </tr>\n",
       "    <tr>\n",
       "      <th>22</th>\n",
       "      <td>214</td>\n",
       "      <td>{'_id': '5436e3aebae478396759f0fb', 'meta': {'...</td>\n",
       "      <td>ISIC_0000022</td>\n",
       "      <td>55.0</td>\n",
       "      <td>malignant</td>\n",
       "      <td>1</td>\n",
       "      <td>female</td>\n",
       "      <td>1</td>\n",
       "      <td>0</td>\n",
       "      <td>1</td>\n",
       "      <td>1</td>\n",
       "      <td>0</td>\n",
       "      <td>1</td>\n",
       "      <td>1</td>\n",
       "    </tr>\n",
       "    <tr>\n",
       "      <th>23</th>\n",
       "      <td>206</td>\n",
       "      <td>{'_id': '5436e3aebae478396759f0fd', 'meta': {'...</td>\n",
       "      <td>ISIC_0000023</td>\n",
       "      <td>30.0</td>\n",
       "      <td>benign</td>\n",
       "      <td>0</td>\n",
       "      <td>female</td>\n",
       "      <td>0</td>\n",
       "      <td>0</td>\n",
       "      <td>0</td>\n",
       "      <td>0</td>\n",
       "      <td>0</td>\n",
       "      <td>0</td>\n",
       "      <td>0</td>\n",
       "    </tr>\n",
       "    <tr>\n",
       "      <th>24</th>\n",
       "      <td>373</td>\n",
       "      <td>{'_id': '5436e3aebae478396759f0ff', 'meta': {'...</td>\n",
       "      <td>ISIC_0000024</td>\n",
       "      <td>45.0</td>\n",
       "      <td>benign</td>\n",
       "      <td>0</td>\n",
       "      <td>male</td>\n",
       "      <td>0</td>\n",
       "      <td>0</td>\n",
       "      <td>0</td>\n",
       "      <td>0</td>\n",
       "      <td>0</td>\n",
       "      <td>0</td>\n",
       "      <td>0</td>\n",
       "    </tr>\n",
       "    <tr>\n",
       "      <th>25</th>\n",
       "      <td>217</td>\n",
       "      <td>{'_id': '5436e3aebae478396759f101', 'meta': {'...</td>\n",
       "      <td>ISIC_0000025</td>\n",
       "      <td>35.0</td>\n",
       "      <td>benign</td>\n",
       "      <td>0</td>\n",
       "      <td>female</td>\n",
       "      <td>0</td>\n",
       "      <td>0</td>\n",
       "      <td>0</td>\n",
       "      <td>0</td>\n",
       "      <td>0</td>\n",
       "      <td>0</td>\n",
       "      <td>0</td>\n",
       "    </tr>\n",
       "    <tr>\n",
       "      <th>26</th>\n",
       "      <td>271</td>\n",
       "      <td>{'_id': '5436e3aebae478396759f103', 'meta': {'...</td>\n",
       "      <td>ISIC_0000026</td>\n",
       "      <td>30.0</td>\n",
       "      <td>malignant</td>\n",
       "      <td>1</td>\n",
       "      <td>female</td>\n",
       "      <td>1</td>\n",
       "      <td>0</td>\n",
       "      <td>1</td>\n",
       "      <td>1</td>\n",
       "      <td>0</td>\n",
       "      <td>1</td>\n",
       "      <td>1</td>\n",
       "    </tr>\n",
       "    <tr>\n",
       "      <th>27</th>\n",
       "      <td>101</td>\n",
       "      <td>{'_id': '5436e3aebae478396759f105', 'meta': {'...</td>\n",
       "      <td>ISIC_0000027</td>\n",
       "      <td>35.0</td>\n",
       "      <td>benign</td>\n",
       "      <td>0</td>\n",
       "      <td>female</td>\n",
       "      <td>0</td>\n",
       "      <td>0</td>\n",
       "      <td>0</td>\n",
       "      <td>0</td>\n",
       "      <td>0</td>\n",
       "      <td>0</td>\n",
       "      <td>0</td>\n",
       "    </tr>\n",
       "    <tr>\n",
       "      <th>28</th>\n",
       "      <td>495</td>\n",
       "      <td>{'_id': '5436e3aebae478396759f107', 'meta': {'...</td>\n",
       "      <td>ISIC_0000028</td>\n",
       "      <td>60.0</td>\n",
       "      <td>benign</td>\n",
       "      <td>0</td>\n",
       "      <td>male</td>\n",
       "      <td>0</td>\n",
       "      <td>0</td>\n",
       "      <td>0</td>\n",
       "      <td>0</td>\n",
       "      <td>0</td>\n",
       "      <td>0</td>\n",
       "      <td>0</td>\n",
       "    </tr>\n",
       "    <tr>\n",
       "      <th>29</th>\n",
       "      <td>429</td>\n",
       "      <td>{'_id': '5436e3aebae478396759f109', 'meta': {'...</td>\n",
       "      <td>ISIC_0000029</td>\n",
       "      <td>45.0</td>\n",
       "      <td>malignant</td>\n",
       "      <td>1</td>\n",
       "      <td>female</td>\n",
       "      <td>1</td>\n",
       "      <td>0</td>\n",
       "      <td>1</td>\n",
       "      <td>1</td>\n",
       "      <td>0</td>\n",
       "      <td>1</td>\n",
       "      <td>1</td>\n",
       "    </tr>\n",
       "    <tr>\n",
       "      <th>...</th>\n",
       "      <td>...</td>\n",
       "      <td>...</td>\n",
       "      <td>...</td>\n",
       "      <td>...</td>\n",
       "      <td>...</td>\n",
       "      <td>...</td>\n",
       "      <td>...</td>\n",
       "      <td>...</td>\n",
       "      <td>...</td>\n",
       "      <td>...</td>\n",
       "      <td>...</td>\n",
       "      <td>...</td>\n",
       "      <td>...</td>\n",
       "      <td>...</td>\n",
       "    </tr>\n",
       "    <tr>\n",
       "      <th>21677</th>\n",
       "      <td>405</td>\n",
       "      <td>{'_id': '582b90879fc3c1566bbcc02f', 'meta': {'...</td>\n",
       "      <td>ISIC_0015079</td>\n",
       "      <td>NaN</td>\n",
       "      <td>malignant</td>\n",
       "      <td>1</td>\n",
       "      <td>NaN</td>\n",
       "      <td>1</td>\n",
       "      <td>0</td>\n",
       "      <td>1</td>\n",
       "      <td>1</td>\n",
       "      <td>0</td>\n",
       "      <td>1</td>\n",
       "      <td>1</td>\n",
       "    </tr>\n",
       "    <tr>\n",
       "      <th>21678</th>\n",
       "      <td>530</td>\n",
       "      <td>{'_id': '582b908e9fc3c1566bbcc04a', 'meta': {'...</td>\n",
       "      <td>ISIC_0015082</td>\n",
       "      <td>55.0</td>\n",
       "      <td>malignant</td>\n",
       "      <td>1</td>\n",
       "      <td>female</td>\n",
       "      <td>1</td>\n",
       "      <td>0</td>\n",
       "      <td>1</td>\n",
       "      <td>1</td>\n",
       "      <td>0</td>\n",
       "      <td>1</td>\n",
       "      <td>1</td>\n",
       "    </tr>\n",
       "    <tr>\n",
       "      <th>21679</th>\n",
       "      <td>269</td>\n",
       "      <td>{'_id': '582b90c59fc3c1566bbcc149', 'meta': {'...</td>\n",
       "      <td>ISIC_0015109</td>\n",
       "      <td>40.0</td>\n",
       "      <td>malignant</td>\n",
       "      <td>1</td>\n",
       "      <td>male</td>\n",
       "      <td>1</td>\n",
       "      <td>0</td>\n",
       "      <td>1</td>\n",
       "      <td>1</td>\n",
       "      <td>0</td>\n",
       "      <td>1</td>\n",
       "      <td>1</td>\n",
       "    </tr>\n",
       "    <tr>\n",
       "      <th>21680</th>\n",
       "      <td>473</td>\n",
       "      <td>{'_id': '582b90c89fc3c1566bbcc152', 'meta': {'...</td>\n",
       "      <td>ISIC_0015110</td>\n",
       "      <td>65.0</td>\n",
       "      <td>malignant</td>\n",
       "      <td>1</td>\n",
       "      <td>male</td>\n",
       "      <td>1</td>\n",
       "      <td>0</td>\n",
       "      <td>1</td>\n",
       "      <td>1</td>\n",
       "      <td>0</td>\n",
       "      <td>1</td>\n",
       "      <td>1</td>\n",
       "    </tr>\n",
       "    <tr>\n",
       "      <th>21681</th>\n",
       "      <td>767</td>\n",
       "      <td>{'_id': '582b90d29fc3c1566bbcc17f', 'meta': {'...</td>\n",
       "      <td>ISIC_0015115</td>\n",
       "      <td>60.0</td>\n",
       "      <td>malignant</td>\n",
       "      <td>1</td>\n",
       "      <td>male</td>\n",
       "      <td>1</td>\n",
       "      <td>0</td>\n",
       "      <td>1</td>\n",
       "      <td>1</td>\n",
       "      <td>0</td>\n",
       "      <td>1</td>\n",
       "      <td>1</td>\n",
       "    </tr>\n",
       "    <tr>\n",
       "      <th>21682</th>\n",
       "      <td>281</td>\n",
       "      <td>{'_id': '582b90da9fc3c1566bbcc1af', 'meta': {'...</td>\n",
       "      <td>ISIC_0015119</td>\n",
       "      <td>55.0</td>\n",
       "      <td>malignant</td>\n",
       "      <td>1</td>\n",
       "      <td>male</td>\n",
       "      <td>1</td>\n",
       "      <td>0</td>\n",
       "      <td>1</td>\n",
       "      <td>1</td>\n",
       "      <td>0</td>\n",
       "      <td>1</td>\n",
       "      <td>1</td>\n",
       "    </tr>\n",
       "    <tr>\n",
       "      <th>21683</th>\n",
       "      <td>629</td>\n",
       "      <td>{'_id': '582b90e39fc3c1566bbcc1dc', 'meta': {'...</td>\n",
       "      <td>ISIC_0015124</td>\n",
       "      <td>45.0</td>\n",
       "      <td>malignant</td>\n",
       "      <td>1</td>\n",
       "      <td>male</td>\n",
       "      <td>1</td>\n",
       "      <td>0</td>\n",
       "      <td>1</td>\n",
       "      <td>1</td>\n",
       "      <td>0</td>\n",
       "      <td>1</td>\n",
       "      <td>1</td>\n",
       "    </tr>\n",
       "    <tr>\n",
       "      <th>21684</th>\n",
       "      <td>642</td>\n",
       "      <td>{'_id': '582b90e99fc3c1566bbcc1f7', 'meta': {'...</td>\n",
       "      <td>ISIC_0015127</td>\n",
       "      <td>NaN</td>\n",
       "      <td>malignant</td>\n",
       "      <td>1</td>\n",
       "      <td>NaN</td>\n",
       "      <td>1</td>\n",
       "      <td>0</td>\n",
       "      <td>1</td>\n",
       "      <td>1</td>\n",
       "      <td>0</td>\n",
       "      <td>1</td>\n",
       "      <td>1</td>\n",
       "    </tr>\n",
       "    <tr>\n",
       "      <th>21685</th>\n",
       "      <td>45</td>\n",
       "      <td>{'_id': '582b90f59fc3c1566bbcc224', 'meta': {'...</td>\n",
       "      <td>ISIC_0015132</td>\n",
       "      <td>75.0</td>\n",
       "      <td>malignant</td>\n",
       "      <td>1</td>\n",
       "      <td>male</td>\n",
       "      <td>1</td>\n",
       "      <td>0</td>\n",
       "      <td>1</td>\n",
       "      <td>1</td>\n",
       "      <td>0</td>\n",
       "      <td>1</td>\n",
       "      <td>1</td>\n",
       "    </tr>\n",
       "    <tr>\n",
       "      <th>21686</th>\n",
       "      <td>22</td>\n",
       "      <td>{'_id': '582b90f79fc3c1566bbcc22d', 'meta': {'...</td>\n",
       "      <td>ISIC_0015133</td>\n",
       "      <td>NaN</td>\n",
       "      <td>malignant</td>\n",
       "      <td>1</td>\n",
       "      <td>NaN</td>\n",
       "      <td>1</td>\n",
       "      <td>0</td>\n",
       "      <td>1</td>\n",
       "      <td>1</td>\n",
       "      <td>0</td>\n",
       "      <td>1</td>\n",
       "      <td>1</td>\n",
       "    </tr>\n",
       "    <tr>\n",
       "      <th>21687</th>\n",
       "      <td>204</td>\n",
       "      <td>{'_id': '582b90fd9fc3c1566bbcc248', 'meta': {'...</td>\n",
       "      <td>ISIC_0015136</td>\n",
       "      <td>65.0</td>\n",
       "      <td>malignant</td>\n",
       "      <td>1</td>\n",
       "      <td>male</td>\n",
       "      <td>1</td>\n",
       "      <td>0</td>\n",
       "      <td>1</td>\n",
       "      <td>1</td>\n",
       "      <td>0</td>\n",
       "      <td>1</td>\n",
       "      <td>1</td>\n",
       "    </tr>\n",
       "    <tr>\n",
       "      <th>21688</th>\n",
       "      <td>336</td>\n",
       "      <td>{'_id': '582b91099fc3c1566bbcc27e', 'meta': {'...</td>\n",
       "      <td>ISIC_0015142</td>\n",
       "      <td>NaN</td>\n",
       "      <td>malignant</td>\n",
       "      <td>1</td>\n",
       "      <td>NaN</td>\n",
       "      <td>1</td>\n",
       "      <td>0</td>\n",
       "      <td>1</td>\n",
       "      <td>1</td>\n",
       "      <td>0</td>\n",
       "      <td>1</td>\n",
       "      <td>1</td>\n",
       "    </tr>\n",
       "    <tr>\n",
       "      <th>21689</th>\n",
       "      <td>586</td>\n",
       "      <td>{'_id': '582b91249fc3c1566bbcc2fe', 'meta': {'...</td>\n",
       "      <td>ISIC_0015156</td>\n",
       "      <td>65.0</td>\n",
       "      <td>malignant</td>\n",
       "      <td>1</td>\n",
       "      <td>female</td>\n",
       "      <td>1</td>\n",
       "      <td>0</td>\n",
       "      <td>1</td>\n",
       "      <td>1</td>\n",
       "      <td>0</td>\n",
       "      <td>1</td>\n",
       "      <td>1</td>\n",
       "    </tr>\n",
       "    <tr>\n",
       "      <th>21690</th>\n",
       "      <td>453</td>\n",
       "      <td>{'_id': '582b91309fc3c1566bbcc347', 'meta': {'...</td>\n",
       "      <td>ISIC_0015163</td>\n",
       "      <td>75.0</td>\n",
       "      <td>malignant</td>\n",
       "      <td>1</td>\n",
       "      <td>female</td>\n",
       "      <td>1</td>\n",
       "      <td>0</td>\n",
       "      <td>1</td>\n",
       "      <td>1</td>\n",
       "      <td>0</td>\n",
       "      <td>1</td>\n",
       "      <td>1</td>\n",
       "    </tr>\n",
       "    <tr>\n",
       "      <th>21691</th>\n",
       "      <td>399</td>\n",
       "      <td>{'_id': '582b91369fc3c1566bbcc362', 'meta': {'...</td>\n",
       "      <td>ISIC_0015166</td>\n",
       "      <td>NaN</td>\n",
       "      <td>malignant</td>\n",
       "      <td>1</td>\n",
       "      <td>NaN</td>\n",
       "      <td>1</td>\n",
       "      <td>0</td>\n",
       "      <td>1</td>\n",
       "      <td>1</td>\n",
       "      <td>0</td>\n",
       "      <td>1</td>\n",
       "      <td>1</td>\n",
       "    </tr>\n",
       "    <tr>\n",
       "      <th>21692</th>\n",
       "      <td>841</td>\n",
       "      <td>{'_id': '582b91379fc3c1566bbcc36b', 'meta': {'...</td>\n",
       "      <td>ISIC_0015167</td>\n",
       "      <td>NaN</td>\n",
       "      <td>malignant</td>\n",
       "      <td>1</td>\n",
       "      <td>NaN</td>\n",
       "      <td>1</td>\n",
       "      <td>0</td>\n",
       "      <td>1</td>\n",
       "      <td>1</td>\n",
       "      <td>0</td>\n",
       "      <td>1</td>\n",
       "      <td>1</td>\n",
       "    </tr>\n",
       "    <tr>\n",
       "      <th>21693</th>\n",
       "      <td>184</td>\n",
       "      <td>{'_id': '582b91509fc3c1566bbcc3ec', 'meta': {'...</td>\n",
       "      <td>ISIC_0015180</td>\n",
       "      <td>65.0</td>\n",
       "      <td>malignant</td>\n",
       "      <td>1</td>\n",
       "      <td>male</td>\n",
       "      <td>1</td>\n",
       "      <td>0</td>\n",
       "      <td>1</td>\n",
       "      <td>1</td>\n",
       "      <td>0</td>\n",
       "      <td>1</td>\n",
       "      <td>1</td>\n",
       "    </tr>\n",
       "    <tr>\n",
       "      <th>21694</th>\n",
       "      <td>24</td>\n",
       "      <td>{'_id': '582b915a9fc3c1566bbcc419', 'meta': {'...</td>\n",
       "      <td>ISIC_0015185</td>\n",
       "      <td>70.0</td>\n",
       "      <td>malignant</td>\n",
       "      <td>1</td>\n",
       "      <td>male</td>\n",
       "      <td>1</td>\n",
       "      <td>0</td>\n",
       "      <td>1</td>\n",
       "      <td>1</td>\n",
       "      <td>0</td>\n",
       "      <td>1</td>\n",
       "      <td>1</td>\n",
       "    </tr>\n",
       "    <tr>\n",
       "      <th>21695</th>\n",
       "      <td>334</td>\n",
       "      <td>{'_id': '582b91619fc3c1566bbcc43d', 'meta': {'...</td>\n",
       "      <td>ISIC_0015189</td>\n",
       "      <td>35.0</td>\n",
       "      <td>malignant</td>\n",
       "      <td>1</td>\n",
       "      <td>male</td>\n",
       "      <td>1</td>\n",
       "      <td>0</td>\n",
       "      <td>1</td>\n",
       "      <td>1</td>\n",
       "      <td>0</td>\n",
       "      <td>1</td>\n",
       "      <td>1</td>\n",
       "    </tr>\n",
       "    <tr>\n",
       "      <th>21696</th>\n",
       "      <td>826</td>\n",
       "      <td>{'_id': '582b91639fc3c1566bbcc446', 'meta': {'...</td>\n",
       "      <td>ISIC_0015190</td>\n",
       "      <td>80.0</td>\n",
       "      <td>malignant</td>\n",
       "      <td>1</td>\n",
       "      <td>male</td>\n",
       "      <td>1</td>\n",
       "      <td>0</td>\n",
       "      <td>1</td>\n",
       "      <td>1</td>\n",
       "      <td>0</td>\n",
       "      <td>1</td>\n",
       "      <td>1</td>\n",
       "    </tr>\n",
       "    <tr>\n",
       "      <th>21697</th>\n",
       "      <td>196</td>\n",
       "      <td>{'_id': '582b91699fc3c1566bbcc461', 'meta': {'...</td>\n",
       "      <td>ISIC_0015193</td>\n",
       "      <td>NaN</td>\n",
       "      <td>malignant</td>\n",
       "      <td>1</td>\n",
       "      <td>NaN</td>\n",
       "      <td>1</td>\n",
       "      <td>0</td>\n",
       "      <td>1</td>\n",
       "      <td>1</td>\n",
       "      <td>0</td>\n",
       "      <td>1</td>\n",
       "      <td>1</td>\n",
       "    </tr>\n",
       "    <tr>\n",
       "      <th>21698</th>\n",
       "      <td>176</td>\n",
       "      <td>{'_id': '582b91789fc3c1566bbcc4a0', 'meta': {'...</td>\n",
       "      <td>ISIC_0015200</td>\n",
       "      <td>NaN</td>\n",
       "      <td>malignant</td>\n",
       "      <td>1</td>\n",
       "      <td>NaN</td>\n",
       "      <td>1</td>\n",
       "      <td>0</td>\n",
       "      <td>1</td>\n",
       "      <td>1</td>\n",
       "      <td>0</td>\n",
       "      <td>1</td>\n",
       "      <td>1</td>\n",
       "    </tr>\n",
       "    <tr>\n",
       "      <th>21699</th>\n",
       "      <td>37</td>\n",
       "      <td>{'_id': '582b91809fc3c1566bbcc4c4', 'meta': {'...</td>\n",
       "      <td>ISIC_0015204</td>\n",
       "      <td>30.0</td>\n",
       "      <td>malignant</td>\n",
       "      <td>1</td>\n",
       "      <td>male</td>\n",
       "      <td>1</td>\n",
       "      <td>0</td>\n",
       "      <td>1</td>\n",
       "      <td>1</td>\n",
       "      <td>0</td>\n",
       "      <td>1</td>\n",
       "      <td>1</td>\n",
       "    </tr>\n",
       "    <tr>\n",
       "      <th>21700</th>\n",
       "      <td>414</td>\n",
       "      <td>{'_id': '582b91849fc3c1566bbcc4d6', 'meta': {'...</td>\n",
       "      <td>ISIC_0015206</td>\n",
       "      <td>40.0</td>\n",
       "      <td>malignant</td>\n",
       "      <td>1</td>\n",
       "      <td>female</td>\n",
       "      <td>1</td>\n",
       "      <td>0</td>\n",
       "      <td>1</td>\n",
       "      <td>1</td>\n",
       "      <td>0</td>\n",
       "      <td>1</td>\n",
       "      <td>1</td>\n",
       "    </tr>\n",
       "    <tr>\n",
       "      <th>21701</th>\n",
       "      <td>167</td>\n",
       "      <td>{'_id': '582b919d9fc3c1566bbcc54b', 'meta': {'...</td>\n",
       "      <td>ISIC_0015219</td>\n",
       "      <td>NaN</td>\n",
       "      <td>malignant</td>\n",
       "      <td>1</td>\n",
       "      <td>male</td>\n",
       "      <td>1</td>\n",
       "      <td>0</td>\n",
       "      <td>1</td>\n",
       "      <td>1</td>\n",
       "      <td>0</td>\n",
       "      <td>1</td>\n",
       "      <td>1</td>\n",
       "    </tr>\n",
       "    <tr>\n",
       "      <th>21702</th>\n",
       "      <td>861</td>\n",
       "      <td>{'_id': '582b91b09fc3c1566bbcc5b1', 'meta': {'...</td>\n",
       "      <td>ISIC_0015229</td>\n",
       "      <td>75.0</td>\n",
       "      <td>malignant</td>\n",
       "      <td>1</td>\n",
       "      <td>male</td>\n",
       "      <td>1</td>\n",
       "      <td>0</td>\n",
       "      <td>1</td>\n",
       "      <td>1</td>\n",
       "      <td>0</td>\n",
       "      <td>1</td>\n",
       "      <td>1</td>\n",
       "    </tr>\n",
       "    <tr>\n",
       "      <th>21703</th>\n",
       "      <td>20</td>\n",
       "      <td>{'_id': '582b91d09fc3c1566bbcc63b', 'meta': {'...</td>\n",
       "      <td>ISIC_0015243</td>\n",
       "      <td>60.0</td>\n",
       "      <td>malignant</td>\n",
       "      <td>1</td>\n",
       "      <td>male</td>\n",
       "      <td>1</td>\n",
       "      <td>0</td>\n",
       "      <td>1</td>\n",
       "      <td>1</td>\n",
       "      <td>0</td>\n",
       "      <td>1</td>\n",
       "      <td>1</td>\n",
       "    </tr>\n",
       "    <tr>\n",
       "      <th>21704</th>\n",
       "      <td>909</td>\n",
       "      <td>{'_id': '582b91e09fc3c1566bbcc683', 'meta': {'...</td>\n",
       "      <td>ISIC_0015251</td>\n",
       "      <td>45.0</td>\n",
       "      <td>malignant</td>\n",
       "      <td>1</td>\n",
       "      <td>female</td>\n",
       "      <td>1</td>\n",
       "      <td>0</td>\n",
       "      <td>1</td>\n",
       "      <td>1</td>\n",
       "      <td>0</td>\n",
       "      <td>1</td>\n",
       "      <td>1</td>\n",
       "    </tr>\n",
       "    <tr>\n",
       "      <th>21705</th>\n",
       "      <td>433</td>\n",
       "      <td>{'_id': '582b91eb9fc3c1566bbcc6b0', 'meta': {'...</td>\n",
       "      <td>ISIC_0015256</td>\n",
       "      <td>65.0</td>\n",
       "      <td>malignant</td>\n",
       "      <td>1</td>\n",
       "      <td>male</td>\n",
       "      <td>1</td>\n",
       "      <td>0</td>\n",
       "      <td>1</td>\n",
       "      <td>1</td>\n",
       "      <td>0</td>\n",
       "      <td>1</td>\n",
       "      <td>1</td>\n",
       "    </tr>\n",
       "    <tr>\n",
       "      <th>21706</th>\n",
       "      <td>624</td>\n",
       "      <td>{'_id': '582b92289fc3c1566bbcc7b4', 'meta': {'...</td>\n",
       "      <td>ISIC_0015284</td>\n",
       "      <td>75.0</td>\n",
       "      <td>malignant</td>\n",
       "      <td>1</td>\n",
       "      <td>male</td>\n",
       "      <td>1</td>\n",
       "      <td>0</td>\n",
       "      <td>1</td>\n",
       "      <td>1</td>\n",
       "      <td>0</td>\n",
       "      <td>1</td>\n",
       "      <td>1</td>\n",
       "    </tr>\n",
       "  </tbody>\n",
       "</table>\n",
       "<p>21707 rows × 14 columns</p>\n",
       "</div>"
      ],
      "text/plain": [
       "       Unnamed: 0                                              value  \\\n",
       "0             342  {'_id': '5436e3abbae478396759f0cf', 'meta': {'...   \n",
       "1             293  {'_id': '5436e3acbae478396759f0d1', 'meta': {'...   \n",
       "2             345  {'_id': '5436e3acbae478396759f0d3', 'meta': {'...   \n",
       "3             215  {'_id': '5436e3acbae478396759f0d5', 'meta': {'...   \n",
       "4             537  {'_id': '5436e3acbae478396759f0d7', 'meta': {'...   \n",
       "5             283  {'_id': '5436e3acbae478396759f0d9', 'meta': {'...   \n",
       "6             152  {'_id': '5436e3acbae478396759f0db', 'meta': {'...   \n",
       "7             288  {'_id': '5436e3acbae478396759f0dd', 'meta': {'...   \n",
       "8             498  {'_id': '5436e3acbae478396759f0df', 'meta': {'...   \n",
       "9               7  {'_id': '5436e3acbae478396759f0e1', 'meta': {'...   \n",
       "10            521  {'_id': '5436e3acbae478396759f0e3', 'meta': {'...   \n",
       "11            138  {'_id': '5436e3acbae478396759f0e5', 'meta': {'...   \n",
       "12            395  {'_id': '5436e3acbae478396759f0e7', 'meta': {'...   \n",
       "13             65  {'_id': '5436e3adbae478396759f0e9', 'meta': {'...   \n",
       "14            510  {'_id': '5436e3adbae478396759f0eb', 'meta': {'...   \n",
       "15            220  {'_id': '5436e3adbae478396759f0ed', 'meta': {'...   \n",
       "16            290  {'_id': '5436e3adbae478396759f0ef', 'meta': {'...   \n",
       "17            467  {'_id': '5436e3adbae478396759f0f1', 'meta': {'...   \n",
       "18            330  {'_id': '5436e3adbae478396759f0f3', 'meta': {'...   \n",
       "19            165  {'_id': '5436e3adbae478396759f0f5', 'meta': {'...   \n",
       "20             69  {'_id': '5436e3adbae478396759f0f7', 'meta': {'...   \n",
       "21            556  {'_id': '5436e3adbae478396759f0f9', 'meta': {'...   \n",
       "22            214  {'_id': '5436e3aebae478396759f0fb', 'meta': {'...   \n",
       "23            206  {'_id': '5436e3aebae478396759f0fd', 'meta': {'...   \n",
       "24            373  {'_id': '5436e3aebae478396759f0ff', 'meta': {'...   \n",
       "25            217  {'_id': '5436e3aebae478396759f101', 'meta': {'...   \n",
       "26            271  {'_id': '5436e3aebae478396759f103', 'meta': {'...   \n",
       "27            101  {'_id': '5436e3aebae478396759f105', 'meta': {'...   \n",
       "28            495  {'_id': '5436e3aebae478396759f107', 'meta': {'...   \n",
       "29            429  {'_id': '5436e3aebae478396759f109', 'meta': {'...   \n",
       "...           ...                                                ...   \n",
       "21677         405  {'_id': '582b90879fc3c1566bbcc02f', 'meta': {'...   \n",
       "21678         530  {'_id': '582b908e9fc3c1566bbcc04a', 'meta': {'...   \n",
       "21679         269  {'_id': '582b90c59fc3c1566bbcc149', 'meta': {'...   \n",
       "21680         473  {'_id': '582b90c89fc3c1566bbcc152', 'meta': {'...   \n",
       "21681         767  {'_id': '582b90d29fc3c1566bbcc17f', 'meta': {'...   \n",
       "21682         281  {'_id': '582b90da9fc3c1566bbcc1af', 'meta': {'...   \n",
       "21683         629  {'_id': '582b90e39fc3c1566bbcc1dc', 'meta': {'...   \n",
       "21684         642  {'_id': '582b90e99fc3c1566bbcc1f7', 'meta': {'...   \n",
       "21685          45  {'_id': '582b90f59fc3c1566bbcc224', 'meta': {'...   \n",
       "21686          22  {'_id': '582b90f79fc3c1566bbcc22d', 'meta': {'...   \n",
       "21687         204  {'_id': '582b90fd9fc3c1566bbcc248', 'meta': {'...   \n",
       "21688         336  {'_id': '582b91099fc3c1566bbcc27e', 'meta': {'...   \n",
       "21689         586  {'_id': '582b91249fc3c1566bbcc2fe', 'meta': {'...   \n",
       "21690         453  {'_id': '582b91309fc3c1566bbcc347', 'meta': {'...   \n",
       "21691         399  {'_id': '582b91369fc3c1566bbcc362', 'meta': {'...   \n",
       "21692         841  {'_id': '582b91379fc3c1566bbcc36b', 'meta': {'...   \n",
       "21693         184  {'_id': '582b91509fc3c1566bbcc3ec', 'meta': {'...   \n",
       "21694          24  {'_id': '582b915a9fc3c1566bbcc419', 'meta': {'...   \n",
       "21695         334  {'_id': '582b91619fc3c1566bbcc43d', 'meta': {'...   \n",
       "21696         826  {'_id': '582b91639fc3c1566bbcc446', 'meta': {'...   \n",
       "21697         196  {'_id': '582b91699fc3c1566bbcc461', 'meta': {'...   \n",
       "21698         176  {'_id': '582b91789fc3c1566bbcc4a0', 'meta': {'...   \n",
       "21699          37  {'_id': '582b91809fc3c1566bbcc4c4', 'meta': {'...   \n",
       "21700         414  {'_id': '582b91849fc3c1566bbcc4d6', 'meta': {'...   \n",
       "21701         167  {'_id': '582b919d9fc3c1566bbcc54b', 'meta': {'...   \n",
       "21702         861  {'_id': '582b91b09fc3c1566bbcc5b1', 'meta': {'...   \n",
       "21703          20  {'_id': '582b91d09fc3c1566bbcc63b', 'meta': {'...   \n",
       "21704         909  {'_id': '582b91e09fc3c1566bbcc683', 'meta': {'...   \n",
       "21705         433  {'_id': '582b91eb9fc3c1566bbcc6b0', 'meta': {'...   \n",
       "21706         624  {'_id': '582b92289fc3c1566bbcc7b4', 'meta': {'...   \n",
       "\n",
       "               name   age benignmalignant  diagnosis     sex  s0  s1  s2  s3  \\\n",
       "0      ISIC_0000000  55.0          benign          0  female   0   0   0   0   \n",
       "1      ISIC_0000001  30.0          benign          0  female   0   0   0   0   \n",
       "2      ISIC_0000002  60.0       malignant          1  female   1   0   1   1   \n",
       "3      ISIC_0000003  30.0          benign          0    male   0   0   0   0   \n",
       "4      ISIC_0000004  80.0       malignant          1    male   1   0   1   1   \n",
       "5      ISIC_0000005  40.0          benign          0  female   0   0   0   0   \n",
       "6      ISIC_0000006  25.0          benign          0  female   0   0   0   0   \n",
       "7      ISIC_0000007  25.0          benign          0  female   0   0   0   0   \n",
       "8      ISIC_0000008  30.0          benign          0  female   0   0   0   0   \n",
       "9      ISIC_0000009  30.0          benign          0  female   0   0   0   0   \n",
       "10     ISIC_0000010  35.0          benign          0  female   0   0   0   0   \n",
       "11     ISIC_0000011  35.0          benign          0  female   0   0   0   0   \n",
       "12     ISIC_0000012  30.0          benign          0    male   0   0   0   0   \n",
       "13     ISIC_0000013  30.0       malignant          1  female   1   0   1   1   \n",
       "14     ISIC_0000014  35.0          benign          0    male   0   0   0   0   \n",
       "15     ISIC_0000015  35.0          benign          0    male   0   0   0   0   \n",
       "16     ISIC_0000016  55.0          benign          0  female   0   0   0   0   \n",
       "17     ISIC_0000017  50.0          benign          0  female   0   0   0   0   \n",
       "18     ISIC_0000018  30.0          benign          0    male   0   0   0   0   \n",
       "19     ISIC_0000019  30.0          benign          0  female   0   0   0   0   \n",
       "20     ISIC_0000020  25.0          benign          0  female   0   0   0   0   \n",
       "21     ISIC_0000021  55.0          benign          0  female   0   0   0   0   \n",
       "22     ISIC_0000022  55.0       malignant          1  female   1   0   1   1   \n",
       "23     ISIC_0000023  30.0          benign          0  female   0   0   0   0   \n",
       "24     ISIC_0000024  45.0          benign          0    male   0   0   0   0   \n",
       "25     ISIC_0000025  35.0          benign          0  female   0   0   0   0   \n",
       "26     ISIC_0000026  30.0       malignant          1  female   1   0   1   1   \n",
       "27     ISIC_0000027  35.0          benign          0  female   0   0   0   0   \n",
       "28     ISIC_0000028  60.0          benign          0    male   0   0   0   0   \n",
       "29     ISIC_0000029  45.0       malignant          1  female   1   0   1   1   \n",
       "...             ...   ...             ...        ...     ...  ..  ..  ..  ..   \n",
       "21677  ISIC_0015079   NaN       malignant          1     NaN   1   0   1   1   \n",
       "21678  ISIC_0015082  55.0       malignant          1  female   1   0   1   1   \n",
       "21679  ISIC_0015109  40.0       malignant          1    male   1   0   1   1   \n",
       "21680  ISIC_0015110  65.0       malignant          1    male   1   0   1   1   \n",
       "21681  ISIC_0015115  60.0       malignant          1    male   1   0   1   1   \n",
       "21682  ISIC_0015119  55.0       malignant          1    male   1   0   1   1   \n",
       "21683  ISIC_0015124  45.0       malignant          1    male   1   0   1   1   \n",
       "21684  ISIC_0015127   NaN       malignant          1     NaN   1   0   1   1   \n",
       "21685  ISIC_0015132  75.0       malignant          1    male   1   0   1   1   \n",
       "21686  ISIC_0015133   NaN       malignant          1     NaN   1   0   1   1   \n",
       "21687  ISIC_0015136  65.0       malignant          1    male   1   0   1   1   \n",
       "21688  ISIC_0015142   NaN       malignant          1     NaN   1   0   1   1   \n",
       "21689  ISIC_0015156  65.0       malignant          1  female   1   0   1   1   \n",
       "21690  ISIC_0015163  75.0       malignant          1  female   1   0   1   1   \n",
       "21691  ISIC_0015166   NaN       malignant          1     NaN   1   0   1   1   \n",
       "21692  ISIC_0015167   NaN       malignant          1     NaN   1   0   1   1   \n",
       "21693  ISIC_0015180  65.0       malignant          1    male   1   0   1   1   \n",
       "21694  ISIC_0015185  70.0       malignant          1    male   1   0   1   1   \n",
       "21695  ISIC_0015189  35.0       malignant          1    male   1   0   1   1   \n",
       "21696  ISIC_0015190  80.0       malignant          1    male   1   0   1   1   \n",
       "21697  ISIC_0015193   NaN       malignant          1     NaN   1   0   1   1   \n",
       "21698  ISIC_0015200   NaN       malignant          1     NaN   1   0   1   1   \n",
       "21699  ISIC_0015204  30.0       malignant          1    male   1   0   1   1   \n",
       "21700  ISIC_0015206  40.0       malignant          1  female   1   0   1   1   \n",
       "21701  ISIC_0015219   NaN       malignant          1    male   1   0   1   1   \n",
       "21702  ISIC_0015229  75.0       malignant          1    male   1   0   1   1   \n",
       "21703  ISIC_0015243  60.0       malignant          1    male   1   0   1   1   \n",
       "21704  ISIC_0015251  45.0       malignant          1  female   1   0   1   1   \n",
       "21705  ISIC_0015256  65.0       malignant          1    male   1   0   1   1   \n",
       "21706  ISIC_0015284  75.0       malignant          1    male   1   0   1   1   \n",
       "\n",
       "       s4  s5  s6  \n",
       "0       0   0   0  \n",
       "1       0   0   0  \n",
       "2       0   1   1  \n",
       "3       0   0   0  \n",
       "4       0   1   1  \n",
       "5       0   0   0  \n",
       "6       0   0   0  \n",
       "7       0   0   0  \n",
       "8       0   0   0  \n",
       "9       0   0   0  \n",
       "10      0   0   0  \n",
       "11      0   0   0  \n",
       "12      0   0   0  \n",
       "13      0   1   1  \n",
       "14      0   0   0  \n",
       "15      0   0   0  \n",
       "16      0   0   0  \n",
       "17      0   0   0  \n",
       "18      0   0   0  \n",
       "19      0   0   0  \n",
       "20      0   0   0  \n",
       "21      0   0   0  \n",
       "22      0   1   1  \n",
       "23      0   0   0  \n",
       "24      0   0   0  \n",
       "25      0   0   0  \n",
       "26      0   1   1  \n",
       "27      0   0   0  \n",
       "28      0   0   0  \n",
       "29      0   1   1  \n",
       "...    ..  ..  ..  \n",
       "21677   0   1   1  \n",
       "21678   0   1   1  \n",
       "21679   0   1   1  \n",
       "21680   0   1   1  \n",
       "21681   0   1   1  \n",
       "21682   0   1   1  \n",
       "21683   0   1   1  \n",
       "21684   0   1   1  \n",
       "21685   0   1   1  \n",
       "21686   0   1   1  \n",
       "21687   0   1   1  \n",
       "21688   0   1   1  \n",
       "21689   0   1   1  \n",
       "21690   0   1   1  \n",
       "21691   0   1   1  \n",
       "21692   0   1   1  \n",
       "21693   0   1   1  \n",
       "21694   0   1   1  \n",
       "21695   0   1   1  \n",
       "21696   0   1   1  \n",
       "21697   0   1   1  \n",
       "21698   0   1   1  \n",
       "21699   0   1   1  \n",
       "21700   0   1   1  \n",
       "21701   0   1   1  \n",
       "21702   0   1   1  \n",
       "21703   0   1   1  \n",
       "21704   0   1   1  \n",
       "21705   0   1   1  \n",
       "21706   0   1   1  \n",
       "\n",
       "[21707 rows x 14 columns]"
      ]
     },
     "execution_count": 7,
     "metadata": {},
     "output_type": "execute_result"
    }
   ],
   "source": [
    "data\n"
   ]
  },
  {
   "cell_type": "code",
   "execution_count": 8,
   "metadata": {},
   "outputs": [
    {
     "data": {
      "text/html": [
       "<h2>Drop Columns</h2>"
      ],
      "text/plain": [
       "<IPython.core.display.HTML object>"
      ]
     },
     "metadata": {},
     "output_type": "display_data"
    }
   ],
   "source": [
    "display(HTML('<h2>Drop Columns</h2>'))"
   ]
  },
  {
   "cell_type": "code",
   "execution_count": 9,
   "metadata": {},
   "outputs": [],
   "source": [
    "data = data.drop(['Unnamed: 0','value', 'benignmalignant'], axis = 1)"
   ]
  },
  {
   "cell_type": "code",
   "execution_count": 10,
   "metadata": {},
   "outputs": [
    {
     "data": {
      "text/html": [
       "<h2>Convert Text To Numeric</h2>"
      ],
      "text/plain": [
       "<IPython.core.display.HTML object>"
      ]
     },
     "metadata": {},
     "output_type": "display_data"
    }
   ],
   "source": [
    "display(HTML('<h2>Convert Text To Numeric</h2>'))"
   ]
  },
  {
   "cell_type": "code",
   "execution_count": 11,
   "metadata": {
    "collapsed": true
   },
   "outputs": [],
   "source": [
    "data['sex']= data['sex'].map({'female':1, 'male': 0})"
   ]
  },
  {
   "cell_type": "code",
   "execution_count": 12,
   "metadata": {},
   "outputs": [
    {
     "data": {
      "text/html": [
       "<h2>Missing Value Analysis</h2>"
      ],
      "text/plain": [
       "<IPython.core.display.HTML object>"
      ]
     },
     "metadata": {},
     "output_type": "display_data"
    }
   ],
   "source": [
    "display(HTML('<h2>Missing Value Analysis</h2>'))\n"
   ]
  },
  {
   "cell_type": "code",
   "execution_count": 13,
   "metadata": {},
   "outputs": [
    {
     "data": {
      "text/html": [
       "<h3>Before :</h3>"
      ],
      "text/plain": [
       "<IPython.core.display.HTML object>"
      ]
     },
     "metadata": {},
     "output_type": "display_data"
    },
    {
     "data": {
      "image/png": "[encoded data removed]",
      "text/plain": [
       "<matplotlib.figure.Figure at 0x7f97cb822c18>"
      ]
     },
     "metadata": {},
     "output_type": "display_data"
    }
   ],
   "source": [
    "import missingno as msno\n",
    "# Nullity or missing values by columns\n",
    "display(HTML('<h3>Before :</h3>'))\n",
    "msno.matrix(df=data.iloc[:,1:39], figsize=(20, 14), color=(0.42, 0.1, 0.05))\n"
   ]
  },
  {
   "cell_type": "code",
   "execution_count": 14,
   "metadata": {},
   "outputs": [
    {
     "data": {
      "text/html": [
       "<h3>Missing Sex Values</h3>"
      ],
      "text/plain": [
       "<IPython.core.display.HTML object>"
      ]
     },
     "metadata": {},
     "output_type": "display_data"
    }
   ],
   "source": [
    "display(HTML('<h3>Missing Sex Values</h3>'))"
   ]
  },
  {
   "cell_type": "code",
   "execution_count": 15,
   "metadata": {},
   "outputs": [],
   "source": [
    "def missing_values_sex(data):\n",
    "    fill_na_values = 0\n",
    "    #Calculate max in a disease\n",
    "    for diagnosis in data['diagnosis'].unique():\n",
    "        female_count = data[data['diagnosis'] == diagnosis].groupby('sex').count()['name'][1]\n",
    "        male_count = data[data['diagnosis'] == diagnosis].groupby('sex').count()['name'][0]\n",
    "        \n",
    "        if(female_count > male_count):\n",
    "            fill_na_values = 1\n",
    "        else:\n",
    "            fill_na_values = 0\n",
    "    \n",
    "        data['sex'].fillna(fill_na_values, inplace = True)\n",
    "\n",
    "    \n",
    "missing_values_sex(data)"
   ]
  },
  {
   "cell_type": "code",
   "execution_count": 16,
   "metadata": {},
   "outputs": [
    {
     "data": {
      "text/html": [
       "<h3>Missing Age Values</h3>"
      ],
      "text/plain": [
       "<IPython.core.display.HTML object>"
      ]
     },
     "metadata": {},
     "output_type": "display_data"
    }
   ],
   "source": [
    "display(HTML('<h3>Missing Age Values</h3>'))"
   ]
  },
  {
   "cell_type": "code",
   "execution_count": 17,
   "metadata": {},
   "outputs": [],
   "source": [
    "def fill_missing_age(data):\n",
    "    \n",
    "    median_list = data.groupby('diagnosis').median()['age']\n",
    "    x = data[data['diagnosis'] == 0]\n",
    "    x1 = data[data['diagnosis'] == 1]\n",
    "    x2 = data[data['diagnosis'] == 2]\n",
    "    x3 = data[data['diagnosis'] == 3]\n",
    "    x4 = data[data['diagnosis'] == 4]\n",
    "    x5 = data[data['diagnosis'] == 5]\n",
    "    x['age'].fillna(median_list[0], inplace = True)\n",
    "    x1['age'].fillna(median_list[1], inplace = True)\n",
    "    x2['age'].fillna(median_list[2], inplace = True)\n",
    "    x3['age'].fillna(median_list[3], inplace = True)\n",
    "    x4['age'].fillna(median_list[4], inplace = True)\n",
    "    x5['age'].fillna(median_list[5], inplace = True)\n",
    "\n",
    "    data = pd.concat([x,x1,x2,x3,x4,x5])\n",
    "    \n",
    "    return data\n",
    "       \n",
    "\n",
    "    \n"
   ]
  },
  {
   "cell_type": "code",
   "execution_count": 18,
   "metadata": {},
   "outputs": [
    {
     "data": {
      "text/html": [
       "<h3>Main Thread Missing</h3>"
      ],
      "text/plain": [
       "<IPython.core.display.HTML object>"
      ]
     },
     "metadata": {},
     "output_type": "display_data"
    }
   ],
   "source": [
    "display(HTML('<h3>Main Thread Missing</h3>'))"
   ]
  },
  {
   "cell_type": "code",
   "execution_count": 19,
   "metadata": {},
   "outputs": [],
   "source": [
    "def main_fill_function(data):\n",
    "    missing_values_sex(data)\n",
    "    data = fill_missing_age(data)\n",
    "    return data"
   ]
  },
  {
   "cell_type": "code",
   "execution_count": 20,
   "metadata": {},
   "outputs": [],
   "source": [
    "data = main_fill_function(data)"
   ]
  },
  {
   "cell_type": "code",
   "execution_count": 21,
   "metadata": {},
   "outputs": [
    {
     "data": {
      "text/html": [
       "<h3>After :</h3>"
      ],
      "text/plain": [
       "<IPython.core.display.HTML object>"
      ]
     },
     "metadata": {},
     "output_type": "display_data"
    },
    {
     "data": {
      "image/png": "[encoded data removed]",
      "text/plain": [
       "<matplotlib.figure.Figure at 0x7f97cb4e16a0>"
      ]
     },
     "metadata": {},
     "output_type": "display_data"
    }
   ],
   "source": [
    "import missingno as msno\n",
    "# Nullity or missing values by columns\n",
    "display(HTML('<h3>After :</h3>'))\n",
    "msno.matrix(df=data.iloc[:,1:39], figsize=(20, 14), color=(0.42, 0.1, 0.05))"
   ]
  },
  {
   "cell_type": "code",
   "execution_count": 22,
   "metadata": {},
   "outputs": [
    {
     "data": {
      "text/html": [
       "<h2>Convert Continuous To Discreet</h2>"
      ],
      "text/plain": [
       "<IPython.core.display.HTML object>"
      ]
     },
     "metadata": {},
     "output_type": "display_data"
    }
   ],
   "source": [
    "display(HTML('<h2>Convert Continuous To Discreet</h2>'))"
   ]
  },
  {
   "cell_type": "code",
   "execution_count": 23,
   "metadata": {},
   "outputs": [],
   "source": [
    "def bucket_age(age):\n",
    "    if 20 > age >= 0:\n",
    "        return 0\n",
    "    elif 40 > age >= 20:\n",
    "        return 1\n",
    "    elif 60 > age >= 40:\n",
    "        return 2\n",
    "    elif 80 > age >= 60:\n",
    "        return 3\n",
    "    elif 150 > age >= 80:\n",
    "        return 4"
   ]
  },
  {
   "cell_type": "code",
   "execution_count": 24,
   "metadata": {},
   "outputs": [],
   "source": [
    "data['age'] = data['age'].apply(lambda age : bucket_age(age))"
   ]
  },
  {
   "cell_type": "code",
   "execution_count": 25,
   "metadata": {},
   "outputs": [
    {
     "data": {
      "text/html": [
       "<h2>Plot Target Label</h2>"
      ],
      "text/plain": [
       "<IPython.core.display.HTML object>"
      ]
     },
     "metadata": {},
     "output_type": "display_data"
    }
   ],
   "source": [
    "display(HTML('<h2>Plot Target Label</h2>'))"
   ]
  },
  {
   "cell_type": "code",
   "execution_count": 26,
   "metadata": {},
   "outputs": [
    {
     "data": {
      "application/vnd.plotly.v1+json": {
       "data": [
        {
         "text": "Distribution of target variable",
         "type": "bar",
         "x": [
          0,
          1,
          5,
          4,
          3,
          2
         ],
         "y": [
          11862,
          3057,
          2020,
          2020,
          2020,
          419
         ]
        }
       ],
       "layout": {
        "title": "Target variable distribution"
       }
      },
      "text/html": [
       "<div id=\"104b29e0-082d-4fca-b593-de15f8be9cc9\" style=\"height: 525px; width: 100%;\" class=\"plotly-graph-div\"></div><script type=\"text/javascript\">require([\"plotly\"], function(Plotly) { window.PLOTLYENV=window.PLOTLYENV || {};window.PLOTLYENV.BASE_URL=\"https://plot.ly\";Plotly.newPlot(\"104b29e0-082d-4fca-b593-de15f8be9cc9\", [{\"type\": \"bar\", \"x\": [0, 1, 5, 4, 3, 2], \"y\": [11862, 3057, 2020, 2020, 2020, 419], \"text\": \"Distribution of target variable\"}], {\"title\": \"Target variable distribution\"}, {\"showLink\": true, \"linkText\": \"Export to plot.ly\"})});</script>"
      ],
      "text/vnd.plotly.v1+html": [
       "<div id=\"104b29e0-082d-4fca-b593-de15f8be9cc9\" style=\"height: 525px; width: 100%;\" class=\"plotly-graph-div\"></div><script type=\"text/javascript\">require([\"plotly\"], function(Plotly) { window.PLOTLYENV=window.PLOTLYENV || {};window.PLOTLYENV.BASE_URL=\"https://plot.ly\";Plotly.newPlot(\"104b29e0-082d-4fca-b593-de15f8be9cc9\", [{\"type\": \"bar\", \"x\": [0, 1, 5, 4, 3, 2], \"y\": [11862, 3057, 2020, 2020, 2020, 419], \"text\": \"Distribution of target variable\"}], {\"title\": \"Target variable distribution\"}, {\"showLink\": true, \"linkText\": \"Export to plot.ly\"})});</script>"
      ]
     },
     "metadata": {},
     "output_type": "display_data"
    }
   ],
   "source": [
    "data2 = [go.Bar(\n",
    "            x = data[\"diagnosis\"].value_counts().index.values,\n",
    "            y = data[\"diagnosis\"].value_counts().values,\n",
    "            text='Distribution of target variable'\n",
    "    )]\n",
    "\n",
    "layout = go.Layout(\n",
    "    title='Target variable distribution'\n",
    ")\n",
    "\n",
    "fig = go.Figure(data =data2, layout=layout)\n",
    "\n",
    "py.iplot(fig, filename='basic-bar')"
   ]
  },
  {
   "cell_type": "code",
   "execution_count": 27,
   "metadata": {},
   "outputs": [
    {
     "data": {
      "text/html": [
       "<h2>Plot Correlation</h2>"
      ],
      "text/plain": [
       "<IPython.core.display.HTML object>"
      ]
     },
     "metadata": {},
     "output_type": "display_data"
    }
   ],
   "source": [
    "display(HTML('<h2>Plot Correlation</h2>'))"
   ]
  },
  {
   "cell_type": "code",
   "execution_count": 28,
   "metadata": {},
   "outputs": [
    {
     "data": {
      "text/plain": [
       "<matplotlib.axes._subplots.AxesSubplot at 0x7f97cb4aea20>"
      ]
     },
     "execution_count": 28,
     "metadata": {},
     "output_type": "execute_result"
    },
    {
     "data": {
      "image/png": "[encoded data removed]",
      "text/plain": [
       "<matplotlib.figure.Figure at 0x7f97cb4ae198>"
      ]
     },
     "metadata": {},
     "output_type": "display_data"
    }
   ],
   "source": [
    "colormap = plt.cm.cubehelix_r\n",
    "plt.figure(figsize=(16,12))\n",
    "plt.title('Pearson correlation of continuous features', y=1.05, size=15)\n",
    "sns.heatmap(data.drop('diagnosis',axis = 1).corr(),linewidths=0.1,vmax=1.0, square=True, cmap=colormap, linecolor='white', annot=True)"
   ]
  },
  {
   "cell_type": "code",
   "execution_count": 29,
   "metadata": {},
   "outputs": [
    {
     "data": {
      "text/html": [
       "<h2>Plot Variable Count</h2>"
      ],
      "text/plain": [
       "<IPython.core.display.HTML object>"
      ]
     },
     "metadata": {},
     "output_type": "display_data"
    }
   ],
   "source": [
    "display(HTML('<h2>Plot Variable Count</h2>'))"
   ]
  },
  {
   "cell_type": "code",
   "execution_count": 30,
   "metadata": {},
   "outputs": [],
   "source": [
    "bin_col = [col for col in data.drop(['name','diagnosis','age'], axis = 1).columns]\n",
    "zero_list = []\n",
    "one_list = []\n",
    "two_list = []\n",
    "for col in bin_col:\n",
    "    zero_list.append((data[col]==0).sum())\n",
    "    one_list.append((data[col]==1).sum())\n",
    "    two_list.append((data[col]==2).sum())"
   ]
  },
  {
   "cell_type": "code",
   "execution_count": 31,
   "metadata": {},
   "outputs": [
    {
     "data": {
      "application/vnd.plotly.v1+json": {
       "data": [
        {
         "name": "Zero count",
         "type": "bar",
         "x": [
          "sex",
          "s0",
          "s1",
          "s2",
          "s3",
          "s4",
          "s5",
          "s6"
         ],
         "y": [
          14461,
          12281,
          15338,
          13882,
          11862,
          15338,
          14301,
          14301
         ]
        },
        {
         "name": "One count",
         "type": "bar",
         "x": [
          "sex",
          "s0",
          "s1",
          "s2",
          "s3",
          "s4",
          "s5",
          "s6"
         ],
         "y": [
          6937,
          5077,
          6060,
          7516,
          9117,
          6060,
          7097,
          7097
         ]
        },
        {
         "name": "Two count",
         "type": "bar",
         "x": [
          "sex",
          "s0",
          "s1",
          "s2",
          "s3",
          "s4",
          "s5",
          "s6"
         ],
         "y": [
          0,
          4040,
          0,
          0,
          419,
          0,
          0,
          0
         ]
        }
       ],
       "layout": {
        "barmode": "stack",
        "title": "Count of 1 2 and 0 in binary variables"
       }
      },
      "text/html": [
       "<div id=\"3502da8d-4ed0-4ddc-9372-55c5d4aa56dc\" style=\"height: 525px; width: 100%;\" class=\"plotly-graph-div\"></div><script type=\"text/javascript\">require([\"plotly\"], function(Plotly) { window.PLOTLYENV=window.PLOTLYENV || {};window.PLOTLYENV.BASE_URL=\"https://plot.ly\";Plotly.newPlot(\"3502da8d-4ed0-4ddc-9372-55c5d4aa56dc\", [{\"type\": \"bar\", \"x\": [\"sex\", \"s0\", \"s1\", \"s2\", \"s3\", \"s4\", \"s5\", \"s6\"], \"y\": [14461, 12281, 15338, 13882, 11862, 15338, 14301, 14301], \"name\": \"Zero count\"}, {\"type\": \"bar\", \"x\": [\"sex\", \"s0\", \"s1\", \"s2\", \"s3\", \"s4\", \"s5\", \"s6\"], \"y\": [6937, 5077, 6060, 7516, 9117, 6060, 7097, 7097], \"name\": \"One count\"}, {\"type\": \"bar\", \"x\": [\"sex\", \"s0\", \"s1\", \"s2\", \"s3\", \"s4\", \"s5\", \"s6\"], \"y\": [0, 4040, 0, 0, 419, 0, 0, 0], \"name\": \"Two count\"}], {\"barmode\": \"stack\", \"title\": \"Count of 1 2 and 0 in binary variables\"}, {\"showLink\": true, \"linkText\": \"Export to plot.ly\"})});</script>"
      ],
      "text/vnd.plotly.v1+html": [
       "<div id=\"3502da8d-4ed0-4ddc-9372-55c5d4aa56dc\" style=\"height: 525px; width: 100%;\" class=\"plotly-graph-div\"></div><script type=\"text/javascript\">require([\"plotly\"], function(Plotly) { window.PLOTLYENV=window.PLOTLYENV || {};window.PLOTLYENV.BASE_URL=\"https://plot.ly\";Plotly.newPlot(\"3502da8d-4ed0-4ddc-9372-55c5d4aa56dc\", [{\"type\": \"bar\", \"x\": [\"sex\", \"s0\", \"s1\", \"s2\", \"s3\", \"s4\", \"s5\", \"s6\"], \"y\": [14461, 12281, 15338, 13882, 11862, 15338, 14301, 14301], \"name\": \"Zero count\"}, {\"type\": \"bar\", \"x\": [\"sex\", \"s0\", \"s1\", \"s2\", \"s3\", \"s4\", \"s5\", \"s6\"], \"y\": [6937, 5077, 6060, 7516, 9117, 6060, 7097, 7097], \"name\": \"One count\"}, {\"type\": \"bar\", \"x\": [\"sex\", \"s0\", \"s1\", \"s2\", \"s3\", \"s4\", \"s5\", \"s6\"], \"y\": [0, 4040, 0, 0, 419, 0, 0, 0], \"name\": \"Two count\"}], {\"barmode\": \"stack\", \"title\": \"Count of 1 2 and 0 in binary variables\"}, {\"showLink\": true, \"linkText\": \"Export to plot.ly\"})});</script>"
      ]
     },
     "metadata": {},
     "output_type": "display_data"
    }
   ],
   "source": [
    "trace1 = go.Bar(\n",
    "    x=bin_col,\n",
    "    y=zero_list ,\n",
    "    name='Zero count'\n",
    ")\n",
    "trace2 = go.Bar(\n",
    "    x=bin_col,\n",
    "    y=one_list,\n",
    "    name='One count'\n",
    ")\n",
    "trace3 = go.Bar(\n",
    "    x=bin_col,\n",
    "    y=two_list,\n",
    "    name='Two count'\n",
    ")\n",
    "\n",
    "\n",
    "\n",
    "data2 = [trace1, trace2, trace3]\n",
    "layout = go.Layout(\n",
    "    barmode='stack',\n",
    "    title='Count of 1 2 and 0 in binary variables'\n",
    ")\n",
    "\n",
    "fig = go.Figure(data=data2, layout=layout)\n",
    "py.iplot(fig, filename='stacked-bar')\n"
   ]
  },
  {
   "cell_type": "code",
   "execution_count": 32,
   "metadata": {},
   "outputs": [
    {
     "data": {
      "text/html": [
       "<h2>Plot Extended Corelation</h2>"
      ],
      "text/plain": [
       "<IPython.core.display.HTML object>"
      ]
     },
     "metadata": {},
     "output_type": "display_data"
    }
   ],
   "source": [
    "display(HTML('<h2>Plot Extended Corelation</h2>'))"
   ]
  },
  {
   "cell_type": "code",
   "execution_count": 33,
   "metadata": {},
   "outputs": [
    {
     "data": {
      "text/plain": [
       "<seaborn.axisgrid.PairGrid at 0x7f97cb3d9a90>"
      ]
     },
     "execution_count": 33,
     "metadata": {},
     "output_type": "execute_result"
    },
    {
     "data": {
      "image/png": "[encoded data removed]",
      "text/plain": [
       "<matplotlib.figure.Figure at 0x7f97cb3d9b38>"
      ]
     },
     "metadata": {},
     "output_type": "display_data"
    }
   ],
   "source": [
    "sns.pairplot(data.drop(['name'], axis=1), hue=\"diagnosis\", size=3)"
   ]
  },
  {
   "cell_type": "code",
   "execution_count": 34,
   "metadata": {},
   "outputs": [
    {
     "data": {
      "text/html": [
       "<h2>Random Forest Feature Importance</h2>"
      ],
      "text/plain": [
       "<IPython.core.display.HTML object>"
      ]
     },
     "metadata": {},
     "output_type": "display_data"
    }
   ],
   "source": [
    "display(HTML('<h2>Random Forest Feature Importance</h2>'))"
   ]
  },
  {
   "cell_type": "code",
   "execution_count": 35,
   "metadata": {},
   "outputs": [
    {
     "name": "stdout",
     "output_type": "stream",
     "text": [
      "----- Training Done -----\n"
     ]
    }
   ],
   "source": [
    "from sklearn.ensemble import RandomForestClassifier\n",
    "rf = RandomForestClassifier(n_estimators=150, max_depth=8, min_samples_leaf=4, max_features=0.2, n_jobs=-1, random_state=0)\n",
    "rf.fit(data.drop(['name', 'diagnosis'],axis=1), data.diagnosis)\n",
    "features = data.drop(['name', 'diagnosis'],axis=1).columns.values\n",
    "print(\"----- Training Done -----\")"
   ]
  },
  {
   "cell_type": "code",
   "execution_count": 36,
   "metadata": {},
   "outputs": [
    {
     "data": {
      "application/vnd.plotly.v1+json": {
       "data": [
        {
         "marker": {
          "color": [
           0.08032765128511371,
           0.0038814758839369077,
           0.14988722102211477,
           0.10729693246660692,
           0.16466789203710433,
           0.11475257593461506,
           0.09476250635023098,
           0.10306461632055051,
           0.1813591286997267
          ],
          "colorscale": "Portland",
          "showscale": true,
          "size": 13,
          "sizemode": "diameter",
          "sizeref": 1
         },
         "mode": "markers",
         "text": [
          "age",
          "sex",
          "s0",
          "s1",
          "s2",
          "s3",
          "s4",
          "s5",
          "s6"
         ],
         "type": "scatter",
         "x": [
          "age",
          "sex",
          "s0",
          "s1",
          "s2",
          "s3",
          "s4",
          "s5",
          "s6"
         ],
         "y": [
          0.08032765128511371,
          0.0038814758839369077,
          0.14988722102211477,
          0.10729693246660692,
          0.16466789203710433,
          0.11475257593461506,
          0.09476250635023098,
          0.10306461632055051,
          0.1813591286997267
         ]
        }
       ],
       "layout": {
        "autosize": true,
        "hovermode": "closest",
        "showlegend": false,
        "title": "Random Forest Feature Importance",
        "xaxis": {
         "showgrid": false,
         "showline": false,
         "ticklen": 5,
         "zeroline": false
        },
        "yaxis": {
         "gridwidth": 2,
         "showgrid": false,
         "ticklen": 5,
         "title": "Feature Importance",
         "zeroline": false
        }
       }
      },
      "text/html": [
       "<div id=\"1ffb9456-b1ba-49cf-9b0c-3c9e5cc25b13\" style=\"height: 525px; width: 100%;\" class=\"plotly-graph-div\"></div><script type=\"text/javascript\">require([\"plotly\"], function(Plotly) { window.PLOTLYENV=window.PLOTLYENV || {};window.PLOTLYENV.BASE_URL=\"https://plot.ly\";Plotly.newPlot(\"1ffb9456-b1ba-49cf-9b0c-3c9e5cc25b13\", [{\"type\": \"scatter\", \"y\": [0.08032765128511371, 0.0038814758839369077, 0.14988722102211477, 0.10729693246660692, 0.16466789203710433, 0.11475257593461506, 0.09476250635023098, 0.10306461632055051, 0.1813591286997267], \"x\": [\"age\", \"sex\", \"s0\", \"s1\", \"s2\", \"s3\", \"s4\", \"s5\", \"s6\"], \"mode\": \"markers\", \"marker\": {\"sizemode\": \"diameter\", \"sizeref\": 1, \"size\": 13, \"color\": [0.08032765128511371, 0.0038814758839369077, 0.14988722102211477, 0.10729693246660692, 0.16466789203710433, 0.11475257593461506, 0.09476250635023098, 0.10306461632055051, 0.1813591286997267], \"colorscale\": \"Portland\", \"showscale\": true}, \"text\": [\"age\", \"sex\", \"s0\", \"s1\", \"s2\", \"s3\", \"s4\", \"s5\", \"s6\"]}], {\"autosize\": true, \"title\": \"Random Forest Feature Importance\", \"hovermode\": \"closest\", \"xaxis\": {\"ticklen\": 5, \"showgrid\": false, \"zeroline\": false, \"showline\": false}, \"yaxis\": {\"title\": \"Feature Importance\", \"showgrid\": false, \"zeroline\": false, \"ticklen\": 5, \"gridwidth\": 2}, \"showlegend\": false}, {\"showLink\": true, \"linkText\": \"Export to plot.ly\"})});</script>"
      ],
      "text/vnd.plotly.v1+html": [
       "<div id=\"1ffb9456-b1ba-49cf-9b0c-3c9e5cc25b13\" style=\"height: 525px; width: 100%;\" class=\"plotly-graph-div\"></div><script type=\"text/javascript\">require([\"plotly\"], function(Plotly) { window.PLOTLYENV=window.PLOTLYENV || {};window.PLOTLYENV.BASE_URL=\"https://plot.ly\";Plotly.newPlot(\"1ffb9456-b1ba-49cf-9b0c-3c9e5cc25b13\", [{\"type\": \"scatter\", \"y\": [0.08032765128511371, 0.0038814758839369077, 0.14988722102211477, 0.10729693246660692, 0.16466789203710433, 0.11475257593461506, 0.09476250635023098, 0.10306461632055051, 0.1813591286997267], \"x\": [\"age\", \"sex\", \"s0\", \"s1\", \"s2\", \"s3\", \"s4\", \"s5\", \"s6\"], \"mode\": \"markers\", \"marker\": {\"sizemode\": \"diameter\", \"sizeref\": 1, \"size\": 13, \"color\": [0.08032765128511371, 0.0038814758839369077, 0.14988722102211477, 0.10729693246660692, 0.16466789203710433, 0.11475257593461506, 0.09476250635023098, 0.10306461632055051, 0.1813591286997267], \"colorscale\": \"Portland\", \"showscale\": true}, \"text\": [\"age\", \"sex\", \"s0\", \"s1\", \"s2\", \"s3\", \"s4\", \"s5\", \"s6\"]}], {\"autosize\": true, \"title\": \"Random Forest Feature Importance\", \"hovermode\": \"closest\", \"xaxis\": {\"ticklen\": 5, \"showgrid\": false, \"zeroline\": false, \"showline\": false}, \"yaxis\": {\"title\": \"Feature Importance\", \"showgrid\": false, \"zeroline\": false, \"ticklen\": 5, \"gridwidth\": 2}, \"showlegend\": false}, {\"showLink\": true, \"linkText\": \"Export to plot.ly\"})});</script>"
      ]
     },
     "metadata": {},
     "output_type": "display_data"
    }
   ],
   "source": [
    "trace = go.Scatter(\n",
    "    y = rf.feature_importances_,\n",
    "    x = features,\n",
    "    mode='markers',\n",
    "    marker=dict(\n",
    "        sizemode = 'diameter',\n",
    "        sizeref = 1,\n",
    "        size = 13,\n",
    "        #size= rf.feature_importances_,\n",
    "        #color = np.random.randn(500), #set color equal to a variable\n",
    "        color = rf.feature_importances_,\n",
    "        colorscale='Portland',\n",
    "        showscale=True\n",
    "    ),\n",
    "    text = features\n",
    ")\n",
    "data2 = [trace]\n",
    "\n",
    "layout= go.Layout(\n",
    "    autosize= True,\n",
    "    title= 'Random Forest Feature Importance',\n",
    "    hovermode= 'closest',\n",
    "     xaxis= dict(\n",
    "         ticklen= 5,\n",
    "         showgrid=False,\n",
    "        zeroline=False,\n",
    "        showline=False\n",
    "     ),\n",
    "    yaxis=dict(\n",
    "        title= 'Feature Importance',\n",
    "        showgrid=False,\n",
    "        zeroline=False,\n",
    "        ticklen= 5,\n",
    "        gridwidth= 2\n",
    "    ),\n",
    "    showlegend= False\n",
    ")\n",
    "fig = go.Figure(data=data2, layout=layout)\n",
    "py.iplot(fig,filename='scatter2010')"
   ]
  },
  {
   "cell_type": "code",
   "execution_count": 37,
   "metadata": {},
   "outputs": [
    {
     "data": {
      "application/vnd.plotly.v1+json": {
       "data": [
        {
         "marker": {
          "color": [
           0.0038814758839369077,
           0.08032765128511371,
           0.09476250635023098,
           0.10306461632055051,
           0.10729693246660692,
           0.11475257593461506,
           0.14988722102211477,
           0.16466789203710433,
           0.1813591286997267
          ],
          "colorscale": "Viridis",
          "reversescale": true
         },
         "name": "Random Forest Feature importance",
         "orientation": "h",
         "type": "bar",
         "x": [
          0.0038814758839369077,
          0.08032765128511371,
          0.09476250635023098,
          0.10306461632055051,
          0.10729693246660692,
          0.11475257593461506,
          0.14988722102211477,
          0.16466789203710433,
          0.1813591286997267
         ],
         "y": [
          "sex",
          "age",
          "s4",
          "s5",
          "s1",
          "s3",
          "s0",
          "s2",
          "s6"
         ]
        }
       ],
       "layout": {
        "height": 2000,
        "title": "Barplot of Feature importances",
        "width": 900,
        "yaxis": {
         "showgrid": false,
         "showline": false,
         "showticklabels": true
        }
       }
      },
      "text/html": [
       "<div id=\"090eb88d-1c49-4d32-8bba-87c9f6d3028f\" style=\"height: 2000px; width: 900px;\" class=\"plotly-graph-div\"></div><script type=\"text/javascript\">require([\"plotly\"], function(Plotly) { window.PLOTLYENV=window.PLOTLYENV || {};window.PLOTLYENV.BASE_URL=\"https://plot.ly\";Plotly.newPlot(\"090eb88d-1c49-4d32-8bba-87c9f6d3028f\", [{\"type\": \"bar\", \"x\": [0.0038814758839369077, 0.08032765128511371, 0.09476250635023098, 0.10306461632055051, 0.10729693246660692, 0.11475257593461506, 0.14988722102211477, 0.16466789203710433, 0.1813591286997267], \"y\": [\"sex\", \"age\", \"s4\", \"s5\", \"s1\", \"s3\", \"s0\", \"s2\", \"s6\"], \"marker\": {\"color\": [0.0038814758839369077, 0.08032765128511371, 0.09476250635023098, 0.10306461632055051, 0.10729693246660692, 0.11475257593461506, 0.14988722102211477, 0.16466789203710433, 0.1813591286997267], \"colorscale\": \"Viridis\", \"reversescale\": true}, \"name\": \"Random Forest Feature importance\", \"orientation\": \"h\"}], {\"title\": \"Barplot of Feature importances\", \"width\": 900, \"height\": 2000, \"yaxis\": {\"showgrid\": false, \"showline\": false, \"showticklabels\": true}}, {\"showLink\": true, \"linkText\": \"Export to plot.ly\"})});</script>"
      ],
      "text/vnd.plotly.v1+html": [
       "<div id=\"090eb88d-1c49-4d32-8bba-87c9f6d3028f\" style=\"height: 2000px; width: 900px;\" class=\"plotly-graph-div\"></div><script type=\"text/javascript\">require([\"plotly\"], function(Plotly) { window.PLOTLYENV=window.PLOTLYENV || {};window.PLOTLYENV.BASE_URL=\"https://plot.ly\";Plotly.newPlot(\"090eb88d-1c49-4d32-8bba-87c9f6d3028f\", [{\"type\": \"bar\", \"x\": [0.0038814758839369077, 0.08032765128511371, 0.09476250635023098, 0.10306461632055051, 0.10729693246660692, 0.11475257593461506, 0.14988722102211477, 0.16466789203710433, 0.1813591286997267], \"y\": [\"sex\", \"age\", \"s4\", \"s5\", \"s1\", \"s3\", \"s0\", \"s2\", \"s6\"], \"marker\": {\"color\": [0.0038814758839369077, 0.08032765128511371, 0.09476250635023098, 0.10306461632055051, 0.10729693246660692, 0.11475257593461506, 0.14988722102211477, 0.16466789203710433, 0.1813591286997267], \"colorscale\": \"Viridis\", \"reversescale\": true}, \"name\": \"Random Forest Feature importance\", \"orientation\": \"h\"}], {\"title\": \"Barplot of Feature importances\", \"width\": 900, \"height\": 2000, \"yaxis\": {\"showgrid\": false, \"showline\": false, \"showticklabels\": true}}, {\"showLink\": true, \"linkText\": \"Export to plot.ly\"})});</script>"
      ]
     },
     "metadata": {},
     "output_type": "display_data"
    }
   ],
   "source": [
    "x, y = (list(x) for x in zip(*sorted(zip(rf.feature_importances_, features), \n",
    "                                                            reverse = False)))\n",
    "trace2 = go.Bar(\n",
    "    x=x ,\n",
    "    y=y,\n",
    "    marker=dict(\n",
    "        color=x,\n",
    "        colorscale = 'Viridis',\n",
    "        reversescale = True\n",
    "    ),\n",
    "    name='Random Forest Feature importance',\n",
    "    orientation='h',\n",
    ")\n",
    "\n",
    "layout = dict(\n",
    "    title='Barplot of Feature importances',\n",
    "     width = 900, height = 2000,\n",
    "    yaxis=dict(\n",
    "        showgrid=False,\n",
    "        showline=False,\n",
    "        showticklabels=True,\n",
    "#         domain=[0, 0.85],\n",
    "    ))\n",
    "\n",
    "fig1 = go.Figure(data=[trace2])\n",
    "fig1['layout'].update(layout)\n",
    "py.iplot(fig1, filename='plots')"
   ]
  },
  {
   "cell_type": "code",
   "execution_count": null,
   "metadata": {},
   "outputs": [],
   "source": []
  },
  {
   "cell_type": "code",
   "execution_count": null,
   "metadata": {},
   "outputs": [],
   "source": []
  },
  {
   "cell_type": "code",
   "execution_count": null,
   "metadata": {
    "collapsed": true
   },
   "outputs": [],
   "source": []
  }
 ],
 "metadata": {
  "kernelspec": {
   "display_name": "Python 3",
   "language": "python",
   "name": "python3"
  },
  "language_info": {
   "codemirror_mode": {
    "name": "ipython",
    "version": 3
   },
   "file_extension": ".py",
   "mimetype": "text/x-python",
   "name": "python",
   "nbconvert_exporter": "python",
   "pygments_lexer": "ipython3",
   "version": "3.6.3"
  }
 },
 "nbformat": 4,
 "nbformat_minor": 2
}
